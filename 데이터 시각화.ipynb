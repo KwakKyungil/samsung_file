{
 "cells": [
  {
   "cell_type": "markdown",
   "id": "17efb103",
   "metadata": {},
   "source": [
    "# 데이터 시각화\n",
    "* 데이터 시각화는 데이터 분석 결과를 쉽게 이해할 수 있도록 시각적으로 표현하고 전달하는 과정입니다. \n",
    "* 데이터 시각화의 목적은 도표 (graph)라는 수단을 통해 정보를 명확하고 효과적으로 전달하는 것입니다. \n",
    "* 시각화를 통해 데이터에 숨겨진 의미를 찾을 수 있습니다.\n",
    "\n",
    "## matplotlib\n",
    "* 파이썬에서 가장 널리 사용되는 데이터 시각화 라이브러리입니다. \n",
    "* 주로 2D 그래프를 그리는 데 사용되며, 다양한 차트 유형을 지원합니다. \n",
    "* pyplot 서브모듈은 MATLAB 스타일의 인터페이스를 제공하여 편리하게 그래프를 그릴 수 있습니다."
   ]
  },
  {
   "cell_type": "code",
   "execution_count": 3,
   "id": "735b98d6",
   "metadata": {},
   "outputs": [],
   "source": [
    "import matplotlib.pyplot as plt\n",
    "import numpy as np"
   ]
  },
  {
   "cell_type": "code",
   "execution_count": null,
   "id": "0b62daec",
   "metadata": {},
   "outputs": [],
   "source": []
  }
 ],
 "metadata": {
  "kernelspec": {
   "display_name": "Python 3 (ipykernel)",
   "language": "python",
   "name": "python3"
  },
  "language_info": {
   "codemirror_mode": {
    "name": "ipython",
    "version": 3
   },
   "file_extension": ".py",
   "mimetype": "text/x-python",
   "name": "python",
   "nbconvert_exporter": "python",
   "pygments_lexer": "ipython3",
   "version": "3.8.13"
  }
 },
 "nbformat": 4,
 "nbformat_minor": 5
}
