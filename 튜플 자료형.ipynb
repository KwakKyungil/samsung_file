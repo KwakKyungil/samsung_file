{
 "cells": [
  {
   "cell_type": "markdown",
   "id": "21baa340",
   "metadata": {},
   "source": [
    "# 파이썬 기초 프로그래밍 문법\n",
    "## 튜플 자료형\n",
    "* 튜플(tuple)은 리스트와 유사한 자료형입니다. 그러나 리스트와 다르게 튜플은 변경할 수 없는(immutable) 자료형입니다. \n",
    "* 이 말은 한 번 생성된 튜플의 요소는 수정, 추가, 삭제가 불가능하다는 것을 의미합니다. 튜플은 소괄호 ( )를 사용하여 표현합니다.\n",
    "\n",
    "### 튜플 만들기\n",
    "* 튜플은 소괄호를 사용하거나 괄호 없이 쉼표로 구분된 요소들로 생성할 수 있습니다."
   ]
  },
  {
   "cell_type": "code",
   "execution_count": 2,
   "id": "615a404b",
   "metadata": {},
   "outputs": [
    {
     "name": "stdout",
     "output_type": "stream",
     "text": [
      "(1, 2, 3)\n",
      "(4, 5, 6)\n"
     ]
    }
   ],
   "source": [
    "my_tuple = (1, 2, 3)\n",
    "another_tuple = 4, 5, 6\n",
    "\n",
    "print(my_tuple)\n",
    "print(another_tuple)"
   ]
  },
  {
   "cell_type": "markdown",
   "id": "3c045795",
   "metadata": {},
   "source": [
    "### 튜플 인덱싱\n",
    "* 인덱스를 통해 요소에 접근할 수 있습니다. 인덱스는 0부터 시작합니다."
   ]
  },
  {
   "cell_type": "code",
   "execution_count": 3,
   "id": "8865854e",
   "metadata": {},
   "outputs": [
    {
     "name": "stdout",
     "output_type": "stream",
     "text": [
      "1\n"
     ]
    }
   ],
   "source": [
    "my_tuple = (1, 2, 3)\n",
    "print(my_tuple[0])  # 결과: 1"
   ]
  },
  {
   "cell_type": "markdown",
   "id": "cc46d652",
   "metadata": {},
   "source": [
    "### 튜플 슬라이싱\n",
    "* 튜플은 슬라이싱을 사용하여 일부분을 추출할 수 있습니다. 슬라이싱은 새로운 튜플을 반환합니다."
   ]
  },
  {
   "cell_type": "code",
   "execution_count": 4,
   "id": "a03fd563",
   "metadata": {},
   "outputs": [
    {
     "name": "stdout",
     "output_type": "stream",
     "text": [
      "(2, 3, 4)\n"
     ]
    }
   ],
   "source": [
    "my_tuple = (1, 2, 3, 4, 5)\n",
    "sliced_tuple = my_tuple[1:4]  # 인덱스 1부터 3까지의 요소 추출\n",
    "print(sliced_tuple)  # 결과: (2, 3, 4)"
   ]
  },
  {
   "cell_type": "markdown",
   "id": "22c720c7",
   "metadata": {},
   "source": [
    "### 튜플 연산\n",
    "* 튜플은 + 연산자를 사용하여 결합할 수 있습니다."
   ]
  },
  {
   "cell_type": "code",
   "execution_count": 5,
   "id": "565c51a8",
   "metadata": {},
   "outputs": [
    {
     "name": "stdout",
     "output_type": "stream",
     "text": [
      "(1, 2, 3, 4, 5, 6)\n"
     ]
    }
   ],
   "source": [
    "tuple1 = (1, 2, 3)\n",
    "tuple2 = (4, 5, 6)\n",
    "combined_tuple = tuple1 + tuple2\n",
    "print(combined_tuple)  # 결과: (1, 2, 3, 4, 5, 6)"
   ]
  },
  {
   "cell_type": "code",
   "execution_count": 7,
   "id": "435ed605",
   "metadata": {},
   "outputs": [
    {
     "name": "stdout",
     "output_type": "stream",
     "text": [
      "(1, 2, 3, 1, 2, 3, 1, 2, 3)\n"
     ]
    }
   ],
   "source": [
    "my_tuple = (1, 2, 3)\n",
    "repeated_tuple = my_tuple * 3\n",
    "print(repeated_tuple)  # 결과: (1, 2, 3, 1, 2, 3, 1, 2, 3)"
   ]
  },
  {
   "cell_type": "markdown",
   "id": "fa08a516",
   "metadata": {},
   "source": [
    "### 튜플 길이 구하기\n",
    "* len() 함수를 사용하여 튜플의 길이를 구할 수 있습니다."
   ]
  },
  {
   "cell_type": "code",
   "execution_count": 6,
   "id": "b684e7c6",
   "metadata": {},
   "outputs": [
    {
     "name": "stdout",
     "output_type": "stream",
     "text": [
      "5\n"
     ]
    }
   ],
   "source": [
    "my_tuple = (1, 2, 3, 4, 5)\n",
    "print(len(my_tuple))  # 결과: 5"
   ]
  },
  {
   "cell_type": "markdown",
   "id": "d3e0f6f2",
   "metadata": {},
   "source": [
    "### 튜플 요소 확인\n",
    "* in 연산자를 사용하여 튜플의 특정 요소가 있는지 확인할 수 있습니다."
   ]
  },
  {
   "cell_type": "code",
   "execution_count": 8,
   "id": "f21e43cc",
   "metadata": {},
   "outputs": [
    {
     "name": "stdout",
     "output_type": "stream",
     "text": [
      "3 is in the tuple.\n"
     ]
    }
   ],
   "source": [
    "my_tuple = (1, 2, 3, 4, 5)\n",
    "if 3 in my_tuple:\n",
    "    print(\"3 is in the tuple.\")  # 결과: 3 is in the tuple."
   ]
  },
  {
   "cell_type": "markdown",
   "id": "0dc51f79",
   "metadata": {},
   "source": [
    "### 튜플 언패킹\n",
    "* 튜플의 요소를 여러 개의 변수에 한 번에 할당할 수 있습니다."
   ]
  },
  {
   "cell_type": "code",
   "execution_count": 11,
   "id": "e2b3ada4",
   "metadata": {},
   "outputs": [
    {
     "name": "stdout",
     "output_type": "stream",
     "text": [
      "1 2 3\n"
     ]
    }
   ],
   "source": [
    "my_tuple = (1, 2, 3)\n",
    "a, b, c = my_tuple\n",
    "print(a, b, c)  # 결과: 1 2 3"
   ]
  },
  {
   "cell_type": "markdown",
   "id": "a3d3c007",
   "metadata": {},
   "source": [
    "### 단일 요소 튜플 생성\n",
    "* 단일 요소를 가진 튜플을 생성할 때에는 요소 뒤에 쉼표를 붙여야 합니다. 그렇지 않으면 튜플이 아닌 일반 변수로 인식됩니다."
   ]
  },
  {
   "cell_type": "code",
   "execution_count": 12,
   "id": "3db5db5d",
   "metadata": {},
   "outputs": [
    {
     "name": "stdout",
     "output_type": "stream",
     "text": [
      "(4,)\n",
      "4\n"
     ]
    }
   ],
   "source": [
    "single_element_tuple = (4,)\n",
    "not_a_tuple = (4)\n",
    "\n",
    "print(single_element_tuple) \n",
    "print(not_a_tuple) "
   ]
  },
  {
   "cell_type": "markdown",
   "id": "0c9c361e",
   "metadata": {},
   "source": [
    "### 튜플과 리스트 변환\n",
    "* 튜플을 리스트로 변환하거나 리스트를 튜플로 변환할 수 있습니다. 이를 위해 각각 list()와 tuple() 함수를 사용합니다."
   ]
  },
  {
   "cell_type": "code",
   "execution_count": 13,
   "id": "bb717544",
   "metadata": {},
   "outputs": [
    {
     "name": "stdout",
     "output_type": "stream",
     "text": [
      "[1, 2, 3]\n",
      "(4, 5, 6)\n"
     ]
    }
   ],
   "source": [
    "my_tuple = (1, 2, 3)\n",
    "my_list = list(my_tuple)\n",
    "print(my_list)  # 결과: [1, 2, 3]\n",
    "\n",
    "my_list = [4, 5, 6]\n",
    "my_tuple = tuple(my_list)\n",
    "print(my_tuple)  # 결과: (4, 5, 6)"
   ]
  },
  {
   "cell_type": "markdown",
   "id": "5feb832a",
   "metadata": {},
   "source": [
    "### 튜플을 활용한 변수 값 교환\n",
    "* 튜플을 사용하여 두 변수의 값을 교환할 수 있습니다."
   ]
  },
  {
   "cell_type": "code",
   "execution_count": 14,
   "id": "d621d991",
   "metadata": {},
   "outputs": [
    {
     "name": "stdout",
     "output_type": "stream",
     "text": [
      "10 5\n"
     ]
    }
   ],
   "source": [
    "a = 5\n",
    "b = 10\n",
    "\n",
    "a, b = b, a  # 튜플을 사용하여 a와 b의 값을 교환\n",
    "\n",
    "print(a, b)  # 결과: 10 5"
   ]
  },
  {
   "cell_type": "markdown",
   "id": "7cd0dbc8",
   "metadata": {},
   "source": [
    "### 튜플 전용 함수"
   ]
  },
  {
   "cell_type": "code",
   "execution_count": 9,
   "id": "a8aca6db",
   "metadata": {},
   "outputs": [
    {
     "name": "stdout",
     "output_type": "stream",
     "text": [
      "3\n"
     ]
    }
   ],
   "source": [
    "# count() 메소드를 사용하여 튜플 내의 특정 요소의 개수를 세어볼 수 있습니다.\n",
    "my_tuple = (1, 2, 3, 2, 4, 2)\n",
    "count_2 = my_tuple.count(2)\n",
    "print(count_2)  # 결과: 3"
   ]
  },
  {
   "cell_type": "code",
   "execution_count": 10,
   "id": "7c4649af",
   "metadata": {},
   "outputs": [
    {
     "name": "stdout",
     "output_type": "stream",
     "text": [
      "2\n"
     ]
    }
   ],
   "source": [
    "# index() 메소드를 사용하여 튜플 내의 특정 요소의 위치(인덱스)를 찾을 수 있습니다. \n",
    "# 여러 개의 동일한 요소가 있다면 첫 번째 요소의 인덱스를 반환합니다.\n",
    "my_tuple = (1, 2, 3, 4, 5, 3)\n",
    "index_of_3 = my_tuple.index(3)\n",
    "print(index_of_3)  # 결과: 2"
   ]
  },
  {
   "cell_type": "markdown",
   "id": "e43333d2",
   "metadata": {},
   "source": [
    "### 튜플 자료형 실습문제\n",
    "* 튜플 생성  \n",
    "튜플을 생성하고 출력해보세요. 튜플의 요소는 1, 2, 3, 4, 5로 합니다."
   ]
  },
  {
   "cell_type": "code",
   "execution_count": null,
   "id": "04486cd1",
   "metadata": {},
   "outputs": [],
   "source": []
  },
  {
   "cell_type": "markdown",
   "id": "75b19717",
   "metadata": {},
   "source": [
    "* 튜플 길이 확인  \n",
    "다음 튜플의 길이를 확인하세요: (1, 2, 3, 4, 5)"
   ]
  },
  {
   "cell_type": "code",
   "execution_count": null,
   "id": "cf1aad7b",
   "metadata": {},
   "outputs": [],
   "source": []
  },
  {
   "cell_type": "markdown",
   "id": "c333607a",
   "metadata": {},
   "source": [
    "* 튜플 인덱싱  \n",
    "다음 튜플의 세 번째 요소를 출력하세요: (10, 20, 30, 40, 50)"
   ]
  },
  {
   "cell_type": "code",
   "execution_count": null,
   "id": "194a95a4",
   "metadata": {},
   "outputs": [],
   "source": []
  },
  {
   "cell_type": "markdown",
   "id": "a3d7b7e1",
   "metadata": {},
   "source": [
    "* 튜플 병합  \n",
    "다음 두 튜플을 병합하여 새로운 튜플을 생성하고 출력하세요: (1, 2, 3)와 (4, 5, 6)"
   ]
  },
  {
   "cell_type": "code",
   "execution_count": null,
   "id": "93fb8132",
   "metadata": {},
   "outputs": [],
   "source": []
  },
  {
   "cell_type": "markdown",
   "id": "1565412a",
   "metadata": {},
   "source": [
    "* 튜플 반복  \n",
    "다음 튜플을 세 번 반복하여 새로운 튜플을 생성하고 출력하세요: (1, 2, 3)"
   ]
  },
  {
   "cell_type": "code",
   "execution_count": null,
   "id": "d25b9263",
   "metadata": {},
   "outputs": [],
   "source": []
  },
  {
   "cell_type": "markdown",
   "id": "dcda5459",
   "metadata": {},
   "source": [
    "* 튜플에서 요소 확인  \n",
    "다음 튜플에서 요소 5가 있는지 확인하고 출력하세요: (1, 2, 3, 4, 5)"
   ]
  },
  {
   "cell_type": "code",
   "execution_count": null,
   "id": "a3992563",
   "metadata": {},
   "outputs": [],
   "source": []
  },
  {
   "cell_type": "markdown",
   "id": "0a88a476",
   "metadata": {},
   "source": [
    "* 튜플 요소 개수 세기  \n",
    "다음 튜플에서 요소 3의 개수를 세어 출력하세요: (1, 2, 3, 4, 3, 5, 3)"
   ]
  },
  {
   "cell_type": "code",
   "execution_count": null,
   "id": "3c7bd27a",
   "metadata": {},
   "outputs": [],
   "source": []
  },
  {
   "cell_type": "markdown",
   "id": "55573341",
   "metadata": {},
   "source": [
    "* 튜플 요소의 인덱스 찾기  \n",
    "다음 튜플에서 요소 4의 인덱스를 찾아 출력하세요: (1, 2, 3, 4, 5)"
   ]
  },
  {
   "cell_type": "code",
   "execution_count": null,
   "id": "16082e04",
   "metadata": {},
   "outputs": [],
   "source": []
  },
  {
   "cell_type": "markdown",
   "id": "66836a39",
   "metadata": {},
   "source": [
    "* 두 변수의 값을 교환하기  \n",
    "변수 a와 b의 값을 교환하세요. a = 10, b = 20"
   ]
  },
  {
   "cell_type": "code",
   "execution_count": null,
   "id": "ac8c9e1e",
   "metadata": {},
   "outputs": [],
   "source": []
  }
 ],
 "metadata": {
  "kernelspec": {
   "display_name": "Python 3 (ipykernel)",
   "language": "python",
   "name": "python3"
  },
  "language_info": {
   "codemirror_mode": {
    "name": "ipython",
    "version": 3
   },
   "file_extension": ".py",
   "mimetype": "text/x-python",
   "name": "python",
   "nbconvert_exporter": "python",
   "pygments_lexer": "ipython3",
   "version": "3.8.13"
  }
 },
 "nbformat": 4,
 "nbformat_minor": 5
}
