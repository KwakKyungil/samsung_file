{
 "cells": [
  {
   "cell_type": "markdown",
   "id": "2d8bfb66",
   "metadata": {},
   "source": [
    "# 파이썬 기초 프로그래밍 문법\n",
    "## 숫자형 자료형\n",
    "* 숫자형 자료형은 프로그래밍 언어에서 숫자 값을 저장하고 다루기 위한 자료형입니다.\n",
    "* 주로 사용되는 정수형(int), 실수형(float), 복소수형(complex)이 있습니다."
   ]
  },
  {
   "cell_type": "markdown",
   "id": "b4fd8d91",
   "metadata": {},
   "source": [
    "### 정수형(int)\n",
    "* 정수를 표현하는 자료형입니다. 양의 정수, 음의 정수 및 0을 포함합니다."
   ]
  },
  {
   "cell_type": "code",
   "execution_count": 1,
   "id": "6708309a",
   "metadata": {},
   "outputs": [
    {
     "name": "stdout",
     "output_type": "stream",
     "text": [
      "5 -3 0\n"
     ]
    }
   ],
   "source": [
    "a = 5\n",
    "b = -3\n",
    "c = 0\n",
    "print(a, b, c)  # 출력: 5 -3 0"
   ]
  },
  {
   "cell_type": "markdown",
   "id": "7d94a90f",
   "metadata": {},
   "source": [
    "### 실수형(float)\n",
    "* 소수점이 포함된 숫자를 표현하는 자료형입니다."
   ]
  },
  {
   "cell_type": "code",
   "execution_count": 2,
   "id": "360d11f4",
   "metadata": {},
   "outputs": [
    {
     "name": "stdout",
     "output_type": "stream",
     "text": [
      "3.14 -0.5 0.0\n"
     ]
    }
   ],
   "source": [
    "x = 3.14\n",
    "y = -0.5\n",
    "z = 0.0\n",
    "print(x, y, z)  # 출력: 3.14 -0.5 0.0"
   ]
  },
  {
   "cell_type": "markdown",
   "id": "9de5819d",
   "metadata": {},
   "source": [
    "### 숫자형 자료형을 이용한 사칙연산"
   ]
  },
  {
   "cell_type": "code",
   "execution_count": 3,
   "id": "d88bc013",
   "metadata": {},
   "outputs": [
    {
     "name": "stdout",
     "output_type": "stream",
     "text": [
      "13\n",
      "7\n",
      "30\n",
      "3.3333333333333335\n",
      "3\n",
      "1\n",
      "1000\n"
     ]
    }
   ],
   "source": [
    "a = 10\n",
    "b = 3\n",
    "\n",
    "print(a + b)  # 덧셈, 출력: 13\n",
    "print(a - b)  # 뺄셈, 출력: 7\n",
    "print(a * b)  # 곱셈, 출력: 30\n",
    "print(a / b)  # 나눗셈, 출력: 3.3333333333333335\n",
    "print(a // b) # 몫, 출력: 3\n",
    "print(a % b)  # 나머지, 출력: 1\n",
    "print(a ** b) # 거듭제곱, 출력: 1000"
   ]
  },
  {
   "cell_type": "markdown",
   "id": "60616a39",
   "metadata": {},
   "source": [
    "### 숫자형 자료형 실습문제\n",
    "* 원의 넓이 구하기  \n",
    "반지름이 5인 원의 넓이를 구하세요. (원주율을 3.14로 가정)"
   ]
  },
  {
   "cell_type": "code",
   "execution_count": null,
   "id": "ce33121e",
   "metadata": {},
   "outputs": [],
   "source": []
  },
  {
   "cell_type": "markdown",
   "id": "be34fb12",
   "metadata": {},
   "source": [
    "* 직사각형의 넓이와 둘레 구하기  \n",
    "가로 길이가 7, 세로 길이가 10인 직사각형의 넓이와 둘레를 구하세요."
   ]
  },
  {
   "cell_type": "code",
   "execution_count": null,
   "id": "d15f2481",
   "metadata": {},
   "outputs": [],
   "source": []
  },
  {
   "cell_type": "markdown",
   "id": "a4c8f560",
   "metadata": {},
   "source": [
    "* 국, 수, 영 세 과목의 평균 점수 구하기  \n",
    "국어 85점, 수학 90점, 영어 80점일 때, 평균 점수를 구하세요."
   ]
  },
  {
   "cell_type": "code",
   "execution_count": null,
   "id": "61ca3e95",
   "metadata": {},
   "outputs": [],
   "source": []
  },
  {
   "cell_type": "markdown",
   "id": "15191cac",
   "metadata": {},
   "source": [
    "* 이자 계산하기  \n",
    "원금 10,000원, 연 이율 3%인 경우, 1년 후 받을 이자를 구하세요."
   ]
  },
  {
   "cell_type": "code",
   "execution_count": null,
   "id": "3c0f6d3a",
   "metadata": {},
   "outputs": [],
   "source": []
  },
  {
   "cell_type": "markdown",
   "id": "a424d7a2",
   "metadata": {},
   "source": [
    "* 백분율 구하기  \n",
    "120명 중 75명이 참여한 경우, 참여율을 백분율로 구하세요."
   ]
  },
  {
   "cell_type": "code",
   "execution_count": null,
   "id": "19e2f599",
   "metadata": {},
   "outputs": [],
   "source": []
  }
 ],
 "metadata": {
  "kernelspec": {
   "display_name": "Python 3 (ipykernel)",
   "language": "python",
   "name": "python3"
  },
  "language_info": {
   "codemirror_mode": {
    "name": "ipython",
    "version": 3
   },
   "file_extension": ".py",
   "mimetype": "text/x-python",
   "name": "python",
   "nbconvert_exporter": "python",
   "pygments_lexer": "ipython3",
   "version": "3.8.13"
  }
 },
 "nbformat": 4,
 "nbformat_minor": 5
}
