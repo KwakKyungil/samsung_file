{
 "cells": [
  {
   "cell_type": "markdown",
   "id": "4c8c57e2",
   "metadata": {},
   "source": [
    "# 파이썬 기초 프로그래밍 문법\n",
    "## 집합 자료형\n",
    "* 집합(Set) 자료형은 순서가 없고 중복을 허용하지 않는 자료형입니다. \n",
    "* 집합 자료형은 중괄호({})를 사용하여 표현하며, 각 요소는 쉼표(,)로 구분합니다. \n",
    "* 집합은 주로 합집합, 교집합, 차집합 등의 연산을 할 때 사용됩니다.\n",
    "\n",
    "### 집합 만들기\n",
    "* set() 함수를 사용하여 리스트나 튜플을 집합으로 변환할 수 있습니다."
   ]
  },
  {
   "cell_type": "code",
   "execution_count": 1,
   "id": "b257bc7c",
   "metadata": {},
   "outputs": [
    {
     "name": "stdout",
     "output_type": "stream",
     "text": [
      "{1, 2, 3, 4, 5}\n"
     ]
    }
   ],
   "source": [
    "my_set = {1, 2, 3, 4, 5}\n",
    "print(my_set)"
   ]
  },
  {
   "cell_type": "code",
   "execution_count": 2,
   "id": "cbe46fcf",
   "metadata": {},
   "outputs": [
    {
     "name": "stdout",
     "output_type": "stream",
     "text": [
      "{1, 2, 3, 4, 5}\n"
     ]
    }
   ],
   "source": [
    "my_list = [1, 2, 3, 4, 5]\n",
    "my_set = set(my_list)\n",
    "print(my_set)"
   ]
  },
  {
   "cell_type": "markdown",
   "id": "b0ee2155",
   "metadata": {},
   "source": [
    "### 집합 길이 구하기\n",
    "* len() 함수를 사용하여 집합의 길이(요소의 개수)를 구할 수 있습니다."
   ]
  },
  {
   "cell_type": "code",
   "execution_count": 3,
   "id": "67a0fa29",
   "metadata": {},
   "outputs": [
    {
     "name": "stdout",
     "output_type": "stream",
     "text": [
      "5\n"
     ]
    }
   ],
   "source": [
    "my_set = {1, 2, 3, 4, 5}\n",
    "print(len(my_set))  # 출력: 5"
   ]
  },
  {
   "cell_type": "markdown",
   "id": "5393c0dc",
   "metadata": {},
   "source": [
    "### 합집합\n",
    "* | 연산자 또는 union() 메서드를 사용하여 두 집합의 합집합을 구할 수 있습니다."
   ]
  },
  {
   "cell_type": "code",
   "execution_count": 4,
   "id": "1464adfe",
   "metadata": {},
   "outputs": [
    {
     "name": "stdout",
     "output_type": "stream",
     "text": [
      "{1, 2, 3, 4, 5}\n"
     ]
    }
   ],
   "source": [
    "A = {1, 2, 3}\n",
    "B = {3, 4, 5}\n",
    "C = A | B\n",
    "print(C)  # 출력: {1, 2, 3, 4, 5}"
   ]
  },
  {
   "cell_type": "code",
   "execution_count": 5,
   "id": "9c235274",
   "metadata": {},
   "outputs": [
    {
     "name": "stdout",
     "output_type": "stream",
     "text": [
      "{1, 2, 3, 4, 5}\n"
     ]
    }
   ],
   "source": [
    "C = A.union(B)\n",
    "print(C)"
   ]
  },
  {
   "cell_type": "markdown",
   "id": "ce4477ae",
   "metadata": {},
   "source": [
    "### 교집합\n",
    "* & 연산자 또는 intersection() 메서드를 사용하여 두 집합의 교집합을 구할 수 있습니다."
   ]
  },
  {
   "cell_type": "code",
   "execution_count": 6,
   "id": "1fed9bc5",
   "metadata": {},
   "outputs": [
    {
     "name": "stdout",
     "output_type": "stream",
     "text": [
      "{3}\n"
     ]
    }
   ],
   "source": [
    "A = {1, 2, 3}\n",
    "B = {3, 4, 5}\n",
    "C = A & B\n",
    "print(C)  # 출력: {3}"
   ]
  },
  {
   "cell_type": "code",
   "execution_count": 7,
   "id": "3611b6f3",
   "metadata": {},
   "outputs": [
    {
     "name": "stdout",
     "output_type": "stream",
     "text": [
      "{3}\n"
     ]
    }
   ],
   "source": [
    "C = A.intersection(B)\n",
    "print(C)"
   ]
  },
  {
   "cell_type": "markdown",
   "id": "a39bbbdb",
   "metadata": {},
   "source": [
    "### 차집합\n",
    "* \"-\" 연산자 또는 difference() 메서드를 사용하여 두 집합의 차집합을 구할 수 있습니다."
   ]
  },
  {
   "cell_type": "code",
   "execution_count": 8,
   "id": "6374f876",
   "metadata": {},
   "outputs": [
    {
     "name": "stdout",
     "output_type": "stream",
     "text": [
      "{1, 2}\n"
     ]
    }
   ],
   "source": [
    "A = {1, 2, 3}\n",
    "B = {3, 4, 5}\n",
    "C = A - B\n",
    "print(C)  # 출력: {1, 2}"
   ]
  },
  {
   "cell_type": "code",
   "execution_count": 9,
   "id": "f795d2c8",
   "metadata": {},
   "outputs": [
    {
     "name": "stdout",
     "output_type": "stream",
     "text": [
      "{1, 2}\n"
     ]
    }
   ],
   "source": [
    "C = A.difference(B)\n",
    "print(C)"
   ]
  },
  {
   "cell_type": "markdown",
   "id": "420fdeac",
   "metadata": {},
   "source": [
    "### 여집합\n",
    "* 여집합은 어떤 집합의 보수(complement)를 의미합니다. 즉, 주어진 집합 A의 여집합은 전체 집합(유니버설 집합)에서 집합 A에 속하지 않은 모든 원소들의 집합을 말합니다. 예를 들어, 전체 집합이 {1, 2, 3, 4, 5}이고, 집합 A가 {1, 2, 3}일 때, 집합 A의 여집합은 {4, 5}입니다.\n",
    "* ^ 연산자 또는 symmetric_difference() 메서드를 사용하여 두 집합의 여집합(대칭차집합)을 구할 수 있습니다."
   ]
  },
  {
   "cell_type": "code",
   "execution_count": 10,
   "id": "7c1d578b",
   "metadata": {},
   "outputs": [
    {
     "name": "stdout",
     "output_type": "stream",
     "text": [
      "{1, 2, 4, 5}\n"
     ]
    }
   ],
   "source": [
    "A = {1, 2, 3}\n",
    "B = {3, 4, 5}\n",
    "C = A ^ B\n",
    "print(C)  # 출력: {1, 2, 4, 5}"
   ]
  },
  {
   "cell_type": "code",
   "execution_count": 11,
   "id": "7568d4b2",
   "metadata": {},
   "outputs": [
    {
     "name": "stdout",
     "output_type": "stream",
     "text": [
      "{1, 2, 4, 5}\n"
     ]
    }
   ],
   "source": [
    "C = A.symmetric_difference(B)\n",
    "print(C)"
   ]
  },
  {
   "cell_type": "markdown",
   "id": "5c7e608e",
   "metadata": {},
   "source": [
    "### 집합 전용 함수"
   ]
  },
  {
   "cell_type": "code",
   "execution_count": 12,
   "id": "2e5fb8a1",
   "metadata": {},
   "outputs": [
    {
     "name": "stdout",
     "output_type": "stream",
     "text": [
      "{1, 2, 3, 4}\n"
     ]
    }
   ],
   "source": [
    "# add() 메서드를 사용하여 집합에 요소를 추가할 수 있습니다.\n",
    "my_set = {1, 2, 3}\n",
    "my_set.add(4)\n",
    "print(my_set)  # 출력: {1, 2, 3, 4}"
   ]
  },
  {
   "cell_type": "code",
   "execution_count": 13,
   "id": "1356e3ec",
   "metadata": {},
   "outputs": [
    {
     "name": "stdout",
     "output_type": "stream",
     "text": [
      "{1, 2, 3}\n"
     ]
    }
   ],
   "source": [
    "# remove() 메서드를 사용하여 집합에서 요소를 제거할 수 있습니다.\n",
    "my_set = {1, 2, 3, 4}\n",
    "my_set.remove(4)\n",
    "print(my_set)  # 출력: {1, 2, 3}"
   ]
  },
  {
   "cell_type": "code",
   "execution_count": 14,
   "id": "4fff986c",
   "metadata": {},
   "outputs": [
    {
     "name": "stdout",
     "output_type": "stream",
     "text": [
      "True\n"
     ]
    }
   ],
   "source": [
    "# issubset() 메서드를 사용하여 한 집합이 다른 집합의 부분집합인지 확인할 수 있습니다.\n",
    "A = {1, 2}\n",
    "B = {1, 2, 3, 4, 5}\n",
    "print(A.issubset(B))  # 출력: True"
   ]
  },
  {
   "cell_type": "code",
   "execution_count": 15,
   "id": "cc2a9303",
   "metadata": {},
   "outputs": [
    {
     "name": "stdout",
     "output_type": "stream",
     "text": [
      "True\n"
     ]
    }
   ],
   "source": [
    "# issuperset() 메서드를 사용하여 한 집합이 다른 집합의 상위집합인지 확인할 수 있습니다.\n",
    "A = {1, 2, 3, 4, 5}\n",
    "B = {1, 2}\n",
    "print(A.issuperset(B))  # 출력: True"
   ]
  },
  {
   "cell_type": "code",
   "execution_count": 17,
   "id": "b3373695",
   "metadata": {},
   "outputs": [
    {
     "name": "stdout",
     "output_type": "stream",
     "text": [
      "{1, 2, 3}\n"
     ]
    }
   ],
   "source": [
    "# discard() 메서드를 사용하여 집합에서 요소를 제거할 수 있습니다. remove()와 달리, 제거할 요소가 없어도 예외가 발생하지 않습니다.\n",
    "my_set = {1, 2, 3}\n",
    "my_set.discard(4)  # 4가 없어도 에러 발생하지 않음\n",
    "print(my_set)  # 출력: {1, 2, 3}"
   ]
  },
  {
   "cell_type": "code",
   "execution_count": 18,
   "id": "af829072",
   "metadata": {},
   "outputs": [
    {
     "name": "stdout",
     "output_type": "stream",
     "text": [
      "set()\n"
     ]
    }
   ],
   "source": [
    "# clear() 메서드를 사용하여 집합의 모든 요소를 제거할 수 있습니다.\n",
    "my_set = {1, 2, 3}\n",
    "my_set.clear()\n",
    "print(my_set)  # 출력: set()"
   ]
  },
  {
   "cell_type": "markdown",
   "id": "2d710f27",
   "metadata": {},
   "source": [
    "### 집합 자료형 실습문제\n",
    "* 집합 생성하기  \n",
    "빈 집합을 생성해보세요."
   ]
  },
  {
   "cell_type": "code",
   "execution_count": null,
   "id": "ee043618",
   "metadata": {},
   "outputs": [],
   "source": []
  },
  {
   "cell_type": "markdown",
   "id": "22e90769",
   "metadata": {},
   "source": [
    "* 집합에 요소 추가하기  \n",
    "숫자 1, 2, 3을 갖는 집합을 생성하세요."
   ]
  },
  {
   "cell_type": "code",
   "execution_count": null,
   "id": "8a73c871",
   "metadata": {},
   "outputs": [],
   "source": []
  },
  {
   "cell_type": "markdown",
   "id": "c2655852",
   "metadata": {},
   "source": [
    "* 집합에서 요소 제거하기  \n",
    "다음 집합에서 숫자 2를 제거하세요."
   ]
  },
  {
   "cell_type": "code",
   "execution_count": 19,
   "id": "6d328e27",
   "metadata": {},
   "outputs": [],
   "source": [
    "my_set = {1, 2, 3}"
   ]
  },
  {
   "cell_type": "markdown",
   "id": "fc766b6b",
   "metadata": {},
   "source": [
    "* 두 집합의 교집합 구하기  \n",
    "다음 두 집합의 교집합을 구하세요."
   ]
  },
  {
   "cell_type": "code",
   "execution_count": 20,
   "id": "9aea269f",
   "metadata": {},
   "outputs": [],
   "source": [
    "A = {1, 2, 3}\n",
    "B = {2, 3, 4}"
   ]
  },
  {
   "cell_type": "markdown",
   "id": "80ad8b5a",
   "metadata": {},
   "source": [
    "* 두 집합의 합집합 구하기  \n",
    "다음 두 집합의 합집합을 구하세요."
   ]
  },
  {
   "cell_type": "code",
   "execution_count": 21,
   "id": "95cfec5a",
   "metadata": {},
   "outputs": [],
   "source": [
    "A = {1, 2, 3}\n",
    "B = {2, 3, 4}"
   ]
  },
  {
   "cell_type": "markdown",
   "id": "05bb69fb",
   "metadata": {},
   "source": [
    "* 두 집합의 차집합 구하기  \n",
    "다음 두 집합의 차집합을 구하세요."
   ]
  },
  {
   "cell_type": "code",
   "execution_count": 22,
   "id": "7b3121e4",
   "metadata": {},
   "outputs": [],
   "source": [
    "A = {1, 2, 3}\n",
    "B = {2, 3, 4}"
   ]
  },
  {
   "cell_type": "markdown",
   "id": "feca02e9",
   "metadata": {},
   "source": [
    "* 두 집합의 대칭차집합(여집합) 구하기  \n",
    "다음 두 집합의 대칭차집합을 구하세요."
   ]
  },
  {
   "cell_type": "code",
   "execution_count": 23,
   "id": "b61a84ac",
   "metadata": {},
   "outputs": [],
   "source": [
    "A = {1, 2, 3}\n",
    "B = {2, 3, 4}"
   ]
  },
  {
   "cell_type": "markdown",
   "id": "f9c43790",
   "metadata": {},
   "source": [
    "* 부분집합 확인하기  \n",
    "집합 A가 집합 B의 부분집합인지 확인하세요."
   ]
  },
  {
   "cell_type": "code",
   "execution_count": 24,
   "id": "42416c30",
   "metadata": {},
   "outputs": [],
   "source": [
    "A = {1, 2}\n",
    "B = {1, 2, 3, 4, 5}"
   ]
  },
  {
   "cell_type": "markdown",
   "id": "31659421",
   "metadata": {},
   "source": [
    "* 상위집합 확인하기  \n",
    "집합 A가 집합 B의 상위집합인지 확인하세요."
   ]
  },
  {
   "cell_type": "code",
   "execution_count": 25,
   "id": "5e91cda9",
   "metadata": {},
   "outputs": [],
   "source": [
    "A = {1, 2, 3, 4, 5}\n",
    "B = {1, 2}"
   ]
  }
 ],
 "metadata": {
  "kernelspec": {
   "display_name": "Python 3 (ipykernel)",
   "language": "python",
   "name": "python3"
  },
  "language_info": {
   "codemirror_mode": {
    "name": "ipython",
    "version": 3
   },
   "file_extension": ".py",
   "mimetype": "text/x-python",
   "name": "python",
   "nbconvert_exporter": "python",
   "pygments_lexer": "ipython3",
   "version": "3.8.13"
  }
 },
 "nbformat": 4,
 "nbformat_minor": 5
}
