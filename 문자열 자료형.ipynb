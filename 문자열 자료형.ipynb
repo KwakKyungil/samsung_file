{
 "cells": [
  {
   "cell_type": "markdown",
   "id": "c71f7783",
   "metadata": {},
   "source": [
    "# 파이썬 기초 프로그래밍 문법\n",
    "## 문자열 자료형\n",
    "* 문자열 자료형은 파이썬에서 문자들의 시퀀스를 저장하는 데 사용되는 자료형입니다. \n",
    "* 문자열은 작은따옴표(' ') 또는 큰따옴표(\" \")로 둘러싸서 표현할 수 있습니다. \n",
    "* 여러 줄에 걸친 문자열을 표현하려면 삼중 따옴표(''' ''', \"\"\" \"\"\")를 사용할 수 있습니다."
   ]
  },
  {
   "cell_type": "markdown",
   "id": "44916138",
   "metadata": {},
   "source": [
    "### 문자열 예시"
   ]
  },
  {
   "cell_type": "code",
   "execution_count": 1,
   "id": "65ec6ae9",
   "metadata": {},
   "outputs": [
    {
     "name": "stdout",
     "output_type": "stream",
     "text": [
      "Hello, World!\n"
     ]
    }
   ],
   "source": [
    "str1 = 'Hello, World!'\n",
    "print(str1)  # 출력: Hello, World!"
   ]
  },
  {
   "cell_type": "code",
   "execution_count": 2,
   "id": "0dc74a48",
   "metadata": {},
   "outputs": [
    {
     "name": "stdout",
     "output_type": "stream",
     "text": [
      "Python is fun!\n"
     ]
    }
   ],
   "source": [
    "str2 = \"Python is fun!\"\n",
    "print(str2)  # 출력: Python is fun!"
   ]
  },
  {
   "cell_type": "code",
   "execution_count": 3,
   "id": "8b052941",
   "metadata": {},
   "outputs": [
    {
     "name": "stdout",
     "output_type": "stream",
     "text": [
      "Multiline\n",
      "strings\n",
      "are useful.\n"
     ]
    }
   ],
   "source": [
    "str3 = '''Multiline\n",
    "strings\n",
    "are useful.'''\n",
    "print(str3)"
   ]
  },
  {
   "cell_type": "markdown",
   "id": "cc0b5a6b",
   "metadata": {},
   "source": [
    "### 문자열 인덱싱(indexing)\n",
    "* 문자열의 각 문자에 접근할 수 있습니다."
   ]
  },
  {
   "cell_type": "code",
   "execution_count": 4,
   "id": "78bc2db0",
   "metadata": {},
   "outputs": [
    {
     "name": "stdout",
     "output_type": "stream",
     "text": [
      "H\n",
      "!\n"
     ]
    }
   ],
   "source": [
    "s = 'Hello, World!'\n",
    "print(s[0])    # 출력: H\n",
    "print(s[-1])   # 출력: !"
   ]
  },
  {
   "cell_type": "markdown",
   "id": "01f59e57",
   "metadata": {},
   "source": [
    "### 문자열 슬라이싱\n",
    "* 문자열의 일부분을 추출할 수 있습니다."
   ]
  },
  {
   "cell_type": "code",
   "execution_count": 29,
   "id": "7f922532",
   "metadata": {},
   "outputs": [
    {
     "name": "stdout",
     "output_type": "stream",
     "text": [
      "Hello\n",
      "Hello\n",
      "World!\n"
     ]
    }
   ],
   "source": [
    "s = 'Hello, World!'\n",
    "print(s[0:5])   # 출력: Hello\n",
    "print(s[:5])    # 출력: Hello\n",
    "print(s[7:])    # 출력: World!"
   ]
  },
  {
   "cell_type": "code",
   "execution_count": 34,
   "id": "27d3bef5",
   "metadata": {},
   "outputs": [
    {
     "name": "stdout",
     "output_type": "stream",
     "text": [
      "eo\n",
      "Hlo ol!\n",
      "!dlroW ,olleH\n"
     ]
    }
   ],
   "source": [
    "print(s[1:7:3])\n",
    "print(s[::2])\n",
    "print(s[::-1])"
   ]
  },
  {
   "cell_type": "markdown",
   "id": "1f956dd3",
   "metadata": {},
   "source": [
    "### 문자열 연산\n",
    "* 문자열에 대해 연결, 반복 등의 연산을 수행할 수 있습니다."
   ]
  },
  {
   "cell_type": "code",
   "execution_count": 6,
   "id": "b95ae57a",
   "metadata": {},
   "outputs": [
    {
     "name": "stdout",
     "output_type": "stream",
     "text": [
      "HelloWorld\n",
      "HelloHelloHello\n"
     ]
    }
   ],
   "source": [
    "a = 'Hello'\n",
    "b = 'World'\n",
    "print(a + b)    # 출력: HelloWorld\n",
    "print(a * 3)    # 출력: HelloHelloHello"
   ]
  },
  {
   "cell_type": "markdown",
   "id": "b365f28a",
   "metadata": {},
   "source": [
    "### 문자열 전용 함수\n",
    "* 문자열에 대해 다양한 메소드를 사용할 수 있습니다."
   ]
  },
  {
   "cell_type": "code",
   "execution_count": 7,
   "id": "34dc2504",
   "metadata": {},
   "outputs": [
    {
     "name": "stdout",
     "output_type": "stream",
     "text": [
      "13\n"
     ]
    }
   ],
   "source": [
    "s = 'Hello, World!'\n",
    "\n",
    "# 문자열 길이\n",
    "print(len(s))  # 출력: 13"
   ]
  },
  {
   "cell_type": "code",
   "execution_count": 8,
   "id": "14d7fda8",
   "metadata": {},
   "outputs": [
    {
     "name": "stdout",
     "output_type": "stream",
     "text": [
      "HELLO, WORLD!\n"
     ]
    }
   ],
   "source": [
    "# 대문자로 변환\n",
    "print(s.upper())  # 출력: HELLO, WORLD!"
   ]
  },
  {
   "cell_type": "code",
   "execution_count": 9,
   "id": "c8ef3af8",
   "metadata": {},
   "outputs": [
    {
     "name": "stdout",
     "output_type": "stream",
     "text": [
      "hello, world!\n"
     ]
    }
   ],
   "source": [
    "# 소문자로 변환\n",
    "print(s.lower())  # 출력: hello, world!"
   ]
  },
  {
   "cell_type": "code",
   "execution_count": 10,
   "id": "8bed3da6",
   "metadata": {},
   "outputs": [
    {
     "name": "stdout",
     "output_type": "stream",
     "text": [
      "Hello, Python!\n"
     ]
    }
   ],
   "source": [
    "# 문자열 치환\n",
    "print(s.replace('World', 'Python'))  # 출력: Hello, Python!"
   ]
  },
  {
   "cell_type": "code",
   "execution_count": 11,
   "id": "affccdbb",
   "metadata": {},
   "outputs": [
    {
     "name": "stdout",
     "output_type": "stream",
     "text": [
      "['Hello', ' World!']\n"
     ]
    }
   ],
   "source": [
    "# 문자열 분리\n",
    "print(s.split(','))  # 출력: ['Hello', ' World!']"
   ]
  },
  {
   "cell_type": "code",
   "execution_count": 13,
   "id": "9c1534e1",
   "metadata": {},
   "outputs": [
    {
     "name": "stdout",
     "output_type": "stream",
     "text": [
      "Hello, World!  \n",
      "  Hello, World!\n",
      "Hello, World!\n"
     ]
    }
   ],
   "source": [
    "s = \"  Hello, World!  \"\n",
    "\n",
    "# 문자열 왼쪽 공백 제거\n",
    "print(s.lstrip())\n",
    "\n",
    "# 문자열 왼쪽 공백 제거\n",
    "print(s.rstrip())\n",
    "\n",
    "# 문자열 양쪽 끝의 공백을 제거\n",
    "print(s.strip())  # 출력: \"Hello, World!\""
   ]
  },
  {
   "cell_type": "code",
   "execution_count": 14,
   "id": "c1e95809",
   "metadata": {},
   "outputs": [
    {
     "name": "stdout",
     "output_type": "stream",
     "text": [
      "True\n"
     ]
    }
   ],
   "source": [
    "# 문자열이 특정 부분 문자열로 시작하는지 검사합니다. 결과는 True 또는 False입니다.\n",
    "s = \"Hello, World!\"\n",
    "print(s.startswith(\"Hello\"))  # 출력: True"
   ]
  },
  {
   "cell_type": "code",
   "execution_count": 15,
   "id": "aaf0fc14",
   "metadata": {},
   "outputs": [
    {
     "name": "stdout",
     "output_type": "stream",
     "text": [
      "True\n"
     ]
    }
   ],
   "source": [
    "# 문자열이 특정 부분 문자열로 끝나는지 검사합니다. 결과는 True 또는 False입니다.\n",
    "s = \"Hello, World!\"\n",
    "print(s.endswith(\"World!\"))  # 출력: True"
   ]
  },
  {
   "cell_type": "code",
   "execution_count": 16,
   "id": "a956954f",
   "metadata": {},
   "outputs": [
    {
     "name": "stdout",
     "output_type": "stream",
     "text": [
      "7\n",
      "-1\n"
     ]
    }
   ],
   "source": [
    "# 문자열에서 특정 부분 문자열의 첫 번째 인덱스를 찾습니다. 부분 문자열이 없으면 -1을 반환합니다.\n",
    "s = \"Hello, World!\"\n",
    "print(s.find(\"World\"))  # 출력: 7\n",
    "print(s.find(\"Python\"))  # 출력: -1"
   ]
  },
  {
   "cell_type": "code",
   "execution_count": 17,
   "id": "6e22a071",
   "metadata": {},
   "outputs": [
    {
     "name": "stdout",
     "output_type": "stream",
     "text": [
      "2\n"
     ]
    }
   ],
   "source": [
    "# 문자열에서 특정 부분 문자열이 나타나는 횟수를 반환합니다.\n",
    "s = \"Hello, World! World is big.\"\n",
    "print(s.count(\"World\"))  # 출력: 2"
   ]
  },
  {
   "cell_type": "code",
   "execution_count": 21,
   "id": "b62c80e1",
   "metadata": {},
   "outputs": [
    {
     "name": "stdout",
     "output_type": "stream",
     "text": [
      "a -> b -> c -> d -> e\n",
      "apple, banana, cherry\n"
     ]
    }
   ],
   "source": [
    "# 문자열을 이용하여 iterable의 요소들을 결합하여 새 문자열을 생성합니다.\n",
    "# Iterable은 파이썬에서 반복 가능한 객체를 의미합니다.\n",
    "words = 'abcde'\n",
    "print(\" -> \".join(words))\n",
    "\n",
    "separator = \", \"\n",
    "words = [\"apple\", \"banana\", \"cherry\"]\n",
    "print(separator.join(words))  # 출력: \"apple, banana, cherry\""
   ]
  },
  {
   "cell_type": "code",
   "execution_count": 22,
   "id": "1fc68f8a",
   "metadata": {},
   "outputs": [
    {
     "name": "stdout",
     "output_type": "stream",
     "text": [
      "Hello World\n"
     ]
    }
   ],
   "source": [
    "# 문자열에서 모든 단어의 첫 글자를 대문자로 변환하고, 나머지는 소문자로 변환합니다.\n",
    "s = \"hello world\"\n",
    "print(s.title())  # 출력: \"Hello World\""
   ]
  },
  {
   "cell_type": "code",
   "execution_count": 28,
   "id": "45d8ddea",
   "metadata": {},
   "outputs": [
    {
     "name": "stdout",
     "output_type": "stream",
     "text": [
      "Hello, world!\n"
     ]
    }
   ],
   "source": [
    "# 문자열의 첫 글자를 대문자로, 나머지는 소문자로 변환합니다.\n",
    "s = \"hello, world!\"\n",
    "print(s.capitalize())  # 출력: \"Hello, world!\""
   ]
  },
  {
   "cell_type": "code",
   "execution_count": 23,
   "id": "b59bd6e4",
   "metadata": {},
   "outputs": [
    {
     "name": "stdout",
     "output_type": "stream",
     "text": [
      "True\n"
     ]
    }
   ],
   "source": [
    "# 문자열이 알파벳 문자와 숫자로만 이루어져 있는지 검사합니다. 결과는 True 또는 False입니다.\n",
    "s = \"Python123\"\n",
    "print(s.isalnum())  # 출력: True"
   ]
  },
  {
   "cell_type": "code",
   "execution_count": 24,
   "id": "f0a444eb",
   "metadata": {},
   "outputs": [
    {
     "name": "stdout",
     "output_type": "stream",
     "text": [
      "True\n"
     ]
    }
   ],
   "source": [
    "# 문자열이 숫자로만 이루어져 있는지 검사합니다. 결과는 True 또는 False입니다.\n",
    "s = \"12345\"\n",
    "print(s.isdigit())  # 출력: True"
   ]
  },
  {
   "cell_type": "code",
   "execution_count": 25,
   "id": "5e61ad61",
   "metadata": {},
   "outputs": [
    {
     "name": "stdout",
     "output_type": "stream",
     "text": [
      "True\n"
     ]
    }
   ],
   "source": [
    "# 문자열이 알파벳 문자로만 이루어져 있는지 검사합니다. 결과는 True 또는 False입니다.\n",
    "s = \"Python\"\n",
    "print(s.isalpha())  # 출력: True"
   ]
  },
  {
   "cell_type": "code",
   "execution_count": 26,
   "id": "d548dcc4",
   "metadata": {},
   "outputs": [
    {
     "name": "stdout",
     "output_type": "stream",
     "text": [
      "True\n"
     ]
    }
   ],
   "source": [
    "# 문자열이 공백 문자로만 이루어져 있는지 검사합니다. 결과는 True 또는 False입니다.\n",
    "s = \"    \"\n",
    "print(s.isspace())  # 출력: True"
   ]
  },
  {
   "cell_type": "code",
   "execution_count": 27,
   "id": "a511ee9b",
   "metadata": {},
   "outputs": [
    {
     "name": "stdout",
     "output_type": "stream",
     "text": [
      "['Hello,', 'World!', 'Python', 'is', 'fun!']\n",
      "['apple', 'banana', 'cherry']\n",
      "['Hello', 'World']\n"
     ]
    }
   ],
   "source": [
    "# 공백 문자를 기준으로 문자열 분리\n",
    "s = \"Hello, World! Python is fun!\"\n",
    "words = s.split()\n",
    "print(words)  # 출력: ['Hello,', 'World!', 'Python', 'is', 'fun!']\n",
    "\n",
    "# 콤마를 기준으로 문자열 분리\n",
    "s = \"apple,banana,cherry\"\n",
    "fruits = s.split(',')\n",
    "print(fruits)  # 출력: ['apple', 'banana', 'cherry']\n",
    "\n",
    "# 개행 문자를 기준으로 문자열 분리\n",
    "s = \"Hello\\nWorld\"\n",
    "lines = s.split('\\n')\n",
    "print(lines)  # 출력: ['Hello', 'World']"
   ]
  },
  {
   "cell_type": "markdown",
   "id": "7a7b79b7",
   "metadata": {},
   "source": [
    "### 문자열 자료형 실습문제\n",
    "* 문자열 길이 구하기  \n",
    "변수 s에 \"hello\" 문자열을 대입하고, 문자열의 길이를 출력하세요."
   ]
  },
  {
   "cell_type": "code",
   "execution_count": null,
   "id": "c90ef3cb",
   "metadata": {},
   "outputs": [],
   "source": []
  },
  {
   "cell_type": "markdown",
   "id": "c55c58ad",
   "metadata": {},
   "source": [
    "* 문자열을 대문자로 변환하기  \n",
    "변수 s에 \"Python\" 문자열을 대입하고, 대문자로 변환하여 출력하세요."
   ]
  },
  {
   "cell_type": "code",
   "execution_count": null,
   "id": "0a9fe6b3",
   "metadata": {},
   "outputs": [],
   "source": []
  },
  {
   "cell_type": "markdown",
   "id": "3b3fb576",
   "metadata": {},
   "source": [
    "* 특정 문자 개수 구하기  \n",
    "변수 s에 \"Hello, World!\" 문자열을 대입하고, 문자 'l'이 몇 개 포함되어 있는지 출력하세요."
   ]
  },
  {
   "cell_type": "code",
   "execution_count": null,
   "id": "aa90fb6a",
   "metadata": {},
   "outputs": [],
   "source": []
  },
  {
   "cell_type": "markdown",
   "id": "39e9c021",
   "metadata": {},
   "source": [
    "* 문자열 분리하기  \n",
    "변수 s에 \"Hello Python\" 문자열을 대입하고, 공백을 기준으로 문자열을 분리하여 출력하세요."
   ]
  },
  {
   "cell_type": "code",
   "execution_count": null,
   "id": "903f1033",
   "metadata": {},
   "outputs": [],
   "source": []
  },
  {
   "cell_type": "markdown",
   "id": "356be382",
   "metadata": {},
   "source": [
    "* 문자열 분리하기  \n",
    "변수 s에 \"apple,banana,cherry\" 문자열을 대입하고, 콤마를 기준으로 문자열을 분리하여 출력하세요."
   ]
  },
  {
   "cell_type": "code",
   "execution_count": null,
   "id": "9afb58be",
   "metadata": {},
   "outputs": [],
   "source": []
  },
  {
   "cell_type": "markdown",
   "id": "a5c16dbc",
   "metadata": {},
   "source": [
    "* 첫글자 대문자로 변환하기  \n",
    "변수 s에 \"Hello World!\" 문자열을 대입하고, 문자열의 첫 글자를 대문자로 변경하여 출력하세요."
   ]
  },
  {
   "cell_type": "code",
   "execution_count": null,
   "id": "625148eb",
   "metadata": {},
   "outputs": [],
   "source": []
  },
  {
   "cell_type": "markdown",
   "id": "dd5af7eb",
   "metadata": {},
   "source": [
    "* 문자를 다른 문자로 대체하기  \n",
    "변수 s에 \"Hello World\" 문자열을 대입하고, 문자열 내의 공백을 '_'로 교체하여 출력하세요."
   ]
  },
  {
   "cell_type": "code",
   "execution_count": null,
   "id": "d2b10cf0",
   "metadata": {},
   "outputs": [],
   "source": []
  },
  {
   "cell_type": "markdown",
   "id": "5a6417bf",
   "metadata": {},
   "source": [
    "* 각 단어들의 앞 글자를 대문자로 출력하기  \n",
    "변수 s에 \"Python is easy and fun!\" 문자열을 대입하고, 문자열의 각 단어를 대문자로 시작하게 하여 출력하세요."
   ]
  },
  {
   "cell_type": "code",
   "execution_count": null,
   "id": "e970b33d",
   "metadata": {},
   "outputs": [],
   "source": []
  },
  {
   "cell_type": "markdown",
   "id": "ba08b732",
   "metadata": {},
   "source": [
    "* 공백 제거하기  \n",
    "변수 s에 \" Python \" 문자열을 대입하고, 양쪽의 공백을 제거하여 출력하세요."
   ]
  },
  {
   "cell_type": "code",
   "execution_count": null,
   "id": "2d3ac599",
   "metadata": {},
   "outputs": [],
   "source": []
  }
 ],
 "metadata": {
  "kernelspec": {
   "display_name": "Python 3 (ipykernel)",
   "language": "python",
   "name": "python3"
  },
  "language_info": {
   "codemirror_mode": {
    "name": "ipython",
    "version": 3
   },
   "file_extension": ".py",
   "mimetype": "text/x-python",
   "name": "python",
   "nbconvert_exporter": "python",
   "pygments_lexer": "ipython3",
   "version": "3.8.13"
  }
 },
 "nbformat": 4,
 "nbformat_minor": 5
}
