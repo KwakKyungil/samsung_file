{
 "cells": [
  {
   "cell_type": "markdown",
   "id": "6223d172",
   "metadata": {},
   "source": [
    "# 파이썬 기초 프로그래밍 문법\n",
    "## 반복문\n",
    "* 반복문은 특정 조건이 만족되는 동안, 코드를 반복적으로 실행할 때 사용됩니다. 파이썬에서는 주로 for문과 while문이 사용됩니다.\n",
    "\n",
    "### while문\n",
    "* while문은 주어진 조건이 참(True)인 동안 코드 블록을 반복적으로 실행하는 구조입니다. 조건이 거짓(False)이 되면 반복이 종료되고, while문 바깥의 코드가 실행됩니다. 주로 조건을 만족하는 동안 작업을 반복하고자 할 때 사용합니다."
   ]
  },
  {
   "cell_type": "code",
   "execution_count": null,
   "id": "ddd0986d",
   "metadata": {},
   "outputs": [],
   "source": [
    "while 조건:\n",
    "    실행할 코드"
   ]
  },
  {
   "cell_type": "code",
   "execution_count": 1,
   "id": "a87b8d22",
   "metadata": {},
   "outputs": [
    {
     "name": "stdout",
     "output_type": "stream",
     "text": [
      "0\n",
      "1\n",
      "2\n",
      "3\n",
      "4\n"
     ]
    }
   ],
   "source": [
    "# 0부터 4까지 출력하는 예제\n",
    "count = 0\n",
    "while count < 5:\n",
    "    print(count)\n",
    "    count += 1"
   ]
  },
  {
   "cell_type": "code",
   "execution_count": 2,
   "id": "a4667ce9",
   "metadata": {},
   "outputs": [
    {
     "name": "stdout",
     "output_type": "stream",
     "text": [
      "1부터 10까지의 합: 55\n"
     ]
    }
   ],
   "source": [
    "# 1부터 10까지의 합을 구하는 예제\n",
    "num = 1\n",
    "total = 0\n",
    "while num <= 10:\n",
    "    total += num\n",
    "    num += 1\n",
    "print(\"1부터 10까지의 합:\", total)"
   ]
  },
  {
   "cell_type": "markdown",
   "id": "a2a6f778",
   "metadata": {},
   "source": [
    "#### break, continue 키워드\n",
    "break와 continue 문을 사용하여 반복문의 흐름을 제어할 수 있습니다.\n",
    "* break: 반복문을 끝내고 반복문 바깥의 코드를 실행합니다.\n",
    "* continue: 반복문의 나머지 부분을 건너뛰고 다음 반복으로 넘어갑니다."
   ]
  },
  {
   "cell_type": "code",
   "execution_count": 3,
   "id": "af54aae9",
   "metadata": {},
   "outputs": [
    {
     "name": "stdout",
     "output_type": "stream",
     "text": [
      "0\n",
      "1\n",
      "2\n",
      "3\n",
      "4\n"
     ]
    }
   ],
   "source": [
    "# break를 사용한 예제\n",
    "num = 0\n",
    "while True:  # 무한 반복\n",
    "    if num == 5:\n",
    "        break\n",
    "    print(num)\n",
    "    num += 1\n",
    "# 출력: 0, 1, 2, 3, 4"
   ]
  },
  {
   "cell_type": "code",
   "execution_count": 4,
   "id": "5c054162",
   "metadata": {},
   "outputs": [
    {
     "name": "stdout",
     "output_type": "stream",
     "text": [
      "1\n",
      "3\n",
      "5\n",
      "7\n",
      "9\n"
     ]
    }
   ],
   "source": [
    "# continue를 사용한 예제\n",
    "num = 0\n",
    "while num < 10:\n",
    "    num += 1\n",
    "    if num % 2 == 0:\n",
    "        continue\n",
    "    print(num)\n",
    "# 출력: 1, 3, 5, 7, 9"
   ]
  },
  {
   "cell_type": "markdown",
   "id": "c79877a4",
   "metadata": {},
   "source": [
    "### for문\n",
    "* for문은 파이썬에서 반복을 수행하기 위해 사용되는 구조 중 하나입니다. for문은 주로 시퀀스(sequence) 자료형의 요소들을 순회(iterate)하는 데 사용됩니다. 시퀀스 자료형에는 리스트, 문자열, 튜플, 딕셔너리, 집합 등이 포함됩니다."
   ]
  },
  {
   "cell_type": "code",
   "execution_count": null,
   "id": "24e607d1",
   "metadata": {},
   "outputs": [],
   "source": [
    "for 변수 in 시퀀스:\n",
    "    실행할 코드"
   ]
  },
  {
   "cell_type": "code",
   "execution_count": 5,
   "id": "e4150322",
   "metadata": {},
   "outputs": [
    {
     "name": "stdout",
     "output_type": "stream",
     "text": [
      "cat\n",
      "dog\n",
      "elephant\n"
     ]
    }
   ],
   "source": [
    "animals = [\"cat\", \"dog\", \"elephant\"]\n",
    "\n",
    "for animal in animals:\n",
    "    print(animal)\n",
    "\n",
    "# 출력:\n",
    "# cat\n",
    "# dog\n",
    "# elephant"
   ]
  },
  {
   "cell_type": "code",
   "execution_count": 6,
   "id": "8ee66492",
   "metadata": {},
   "outputs": [
    {
     "name": "stdout",
     "output_type": "stream",
     "text": [
      "H\n",
      "e\n",
      "l\n",
      "l\n",
      "o\n",
      ",\n",
      " \n",
      "W\n",
      "o\n",
      "r\n",
      "l\n",
      "d\n",
      "!\n"
     ]
    }
   ],
   "source": [
    "string = \"Hello, World!\"\n",
    "\n",
    "for char in string:\n",
    "    print(char)\n",
    "\n",
    "# 출력:\n",
    "# H\n",
    "# e\n",
    "# l\n",
    "# l\n",
    "# o\n",
    "# ,\n",
    "#  \n",
    "# W\n",
    "# o\n",
    "# r\n",
    "# l\n",
    "# d\n",
    "# !"
   ]
  },
  {
   "cell_type": "code",
   "execution_count": 8,
   "id": "cbc745f2",
   "metadata": {},
   "outputs": [
    {
     "name": "stdout",
     "output_type": "stream",
     "text": [
      "Alice got a grade of 90\n",
      "Bob got a grade of 85\n",
      "Charlie got a grade of 92\n"
     ]
    }
   ],
   "source": [
    "grades = {\"Alice\": 90, \"Bob\": 85, \"Charlie\": 92}\n",
    "\n",
    "for name, grade in grades.items():\n",
    "    print(f\"{name} got a grade of {grade}\")\n",
    "\n",
    "# 출력:\n",
    "# Alice got a grade of 90\n",
    "# Bob got a grade of 85\n",
    "# Charlie got a grade of 92"
   ]
  },
  {
   "cell_type": "markdown",
   "id": "6f94b7ce",
   "metadata": {},
   "source": [
    "#### 범위(range)를 사용한 반복\n",
    "* range() 함수는 일정한 범위의 숫자를 생성합니다. 이를 for문과 함께 사용하면 특정 횟수만큼 반복을 수행할 수 있습니다.\n",
    "* range() 함수에 숫자 n을 넣으면 0부터 n-1까지의 범위를 의미합니다."
   ]
  },
  {
   "cell_type": "code",
   "execution_count": 7,
   "id": "fd7d88eb",
   "metadata": {},
   "outputs": [
    {
     "name": "stdout",
     "output_type": "stream",
     "text": [
      "0\n",
      "1\n",
      "2\n",
      "3\n",
      "4\n"
     ]
    }
   ],
   "source": [
    "for i in range(5):\n",
    "    print(i)\n",
    "\n",
    "# 출력:\n",
    "# 0\n",
    "# 1\n",
    "# 2\n",
    "# 3\n",
    "# 4"
   ]
  },
  {
   "cell_type": "markdown",
   "id": "cc61cf41",
   "metadata": {},
   "source": [
    "* range() 함수에 숫자 n, m을 넣으면 n부터 m-1까지의 범위를 의미합니다."
   ]
  },
  {
   "cell_type": "code",
   "execution_count": 9,
   "id": "eebdb484",
   "metadata": {},
   "outputs": [
    {
     "name": "stdout",
     "output_type": "stream",
     "text": [
      "2\n",
      "3\n",
      "4\n",
      "5\n"
     ]
    }
   ],
   "source": [
    "for i in range(2, 6):\n",
    "    print(i)\n",
    "\n",
    "# 출력:\n",
    "# 2\n",
    "# 3\n",
    "# 4\n",
    "# 5"
   ]
  },
  {
   "cell_type": "markdown",
   "id": "5889e92c",
   "metadata": {},
   "source": [
    "* range() 함수에 숫자 n, m, k을 넣으면 n부터 m-1까지의 범위 k개씩 증가시킨다는것을 의미합니다."
   ]
  },
  {
   "cell_type": "code",
   "execution_count": 10,
   "id": "d5508d41",
   "metadata": {},
   "outputs": [
    {
     "name": "stdout",
     "output_type": "stream",
     "text": [
      "0\n",
      "2\n",
      "4\n",
      "6\n",
      "8\n"
     ]
    }
   ],
   "source": [
    "for i in range(0, 10, 2):\n",
    "    print(i)\n",
    "\n",
    "# 출력:\n",
    "# 0\n",
    "# 2\n",
    "# 4\n",
    "# 6\n",
    "# 8"
   ]
  },
  {
   "cell_type": "code",
   "execution_count": 11,
   "id": "da82ee99",
   "metadata": {},
   "outputs": [
    {
     "name": "stdout",
     "output_type": "stream",
     "text": [
      "Index 0: apple\n",
      "Index 1: banana\n",
      "Index 2: cherry\n"
     ]
    }
   ],
   "source": [
    "fruits = ['apple', 'banana', 'cherry']\n",
    "\n",
    "for i in range(len(fruits)):\n",
    "    print(f\"Index {i}: {fruits[i]}\")\n",
    "\n",
    "# 출력:\n",
    "# Index 0: apple\n",
    "# Index 1: banana\n",
    "# Index 2: cherry"
   ]
  },
  {
   "cell_type": "markdown",
   "id": "9aa7e887",
   "metadata": {},
   "source": [
    "#### enumerate() 함수를 사용한 인덱스와 값의 순회\n",
    "* enumerate() 함수는 시퀀스를 순회하면서 인덱스와 값을 함께 반환해줍니다. 이를 for문과 함께 사용하면 인덱스와 값을 동시에 얻을 수 있습니다."
   ]
  },
  {
   "cell_type": "code",
   "execution_count": 12,
   "id": "e5846615",
   "metadata": {},
   "outputs": [
    {
     "name": "stdout",
     "output_type": "stream",
     "text": [
      "Color 0: red\n",
      "Color 1: green\n",
      "Color 2: blue\n"
     ]
    }
   ],
   "source": [
    "colors = [\"red\", \"green\", \"blue\"]\n",
    "\n",
    "for index, color in enumerate(colors):\n",
    "    print(f\"Color {index}: {color}\")\n",
    "\n",
    "# 출력:\n",
    "# Color 0: red\n",
    "# Color 1: green\n",
    "# Color 2: blue"
   ]
  },
  {
   "cell_type": "markdown",
   "id": "89770f2d",
   "metadata": {},
   "source": [
    "#### 리스트 컴프리헨션\n",
    "* for문을 사용하여 간결하게 새로운 리스트를 생성할 수 있는 기능입니다."
   ]
  },
  {
   "cell_type": "code",
   "execution_count": 13,
   "id": "db974b71",
   "metadata": {},
   "outputs": [],
   "source": [
    "# 일반적인 for문 사용\n",
    "squares = []\n",
    "for i in range(1, 6):\n",
    "    squares.append(i * i)"
   ]
  },
  {
   "cell_type": "code",
   "execution_count": 14,
   "id": "3db35b31",
   "metadata": {},
   "outputs": [
    {
     "name": "stdout",
     "output_type": "stream",
     "text": [
      "[1, 4, 9, 16, 25]\n"
     ]
    }
   ],
   "source": [
    "# 리스트 컴프리헨션 사용\n",
    "squares = [i * i for i in range(1, 6)]\n",
    "\n",
    "print(squares)  # 출력: [1, 4, 9, 16, 25]"
   ]
  },
  {
   "cell_type": "markdown",
   "id": "4695d2a0",
   "metadata": {},
   "source": [
    "#### 중첩된 for문\n",
    "* for문 내부에 다른 for문을 사용하여 중첩된 반복을 수행할 수 있습니다."
   ]
  },
  {
   "cell_type": "code",
   "execution_count": 15,
   "id": "9c2e30b5",
   "metadata": {},
   "outputs": [
    {
     "name": "stdout",
     "output_type": "stream",
     "text": [
      "2 X 1 = 2\n",
      "2 X 2 = 4\n",
      "2 X 3 = 6\n",
      "2 X 4 = 8\n",
      "2 X 5 = 10\n",
      "2 X 6 = 12\n",
      "2 X 7 = 14\n",
      "2 X 8 = 16\n",
      "2 X 9 = 18\n",
      "3 X 1 = 3\n",
      "3 X 2 = 6\n",
      "3 X 3 = 9\n",
      "3 X 4 = 12\n",
      "3 X 5 = 15\n",
      "3 X 6 = 18\n",
      "3 X 7 = 21\n",
      "3 X 8 = 24\n",
      "3 X 9 = 27\n",
      "4 X 1 = 4\n",
      "4 X 2 = 8\n",
      "4 X 3 = 12\n",
      "4 X 4 = 16\n",
      "4 X 5 = 20\n",
      "4 X 6 = 24\n",
      "4 X 7 = 28\n",
      "4 X 8 = 32\n",
      "4 X 9 = 36\n",
      "5 X 1 = 5\n",
      "5 X 2 = 10\n",
      "5 X 3 = 15\n",
      "5 X 4 = 20\n",
      "5 X 5 = 25\n",
      "5 X 6 = 30\n",
      "5 X 7 = 35\n",
      "5 X 8 = 40\n",
      "5 X 9 = 45\n",
      "6 X 1 = 6\n",
      "6 X 2 = 12\n",
      "6 X 3 = 18\n",
      "6 X 4 = 24\n",
      "6 X 5 = 30\n",
      "6 X 6 = 36\n",
      "6 X 7 = 42\n",
      "6 X 8 = 48\n",
      "6 X 9 = 54\n",
      "7 X 1 = 7\n",
      "7 X 2 = 14\n",
      "7 X 3 = 21\n",
      "7 X 4 = 28\n",
      "7 X 5 = 35\n",
      "7 X 6 = 42\n",
      "7 X 7 = 49\n",
      "7 X 8 = 56\n",
      "7 X 9 = 63\n",
      "8 X 1 = 8\n",
      "8 X 2 = 16\n",
      "8 X 3 = 24\n",
      "8 X 4 = 32\n",
      "8 X 5 = 40\n",
      "8 X 6 = 48\n",
      "8 X 7 = 56\n",
      "8 X 8 = 64\n",
      "8 X 9 = 72\n",
      "9 X 1 = 9\n",
      "9 X 2 = 18\n",
      "9 X 3 = 27\n",
      "9 X 4 = 36\n",
      "9 X 5 = 45\n",
      "9 X 6 = 54\n",
      "9 X 7 = 63\n",
      "9 X 8 = 72\n",
      "9 X 9 = 81\n"
     ]
    }
   ],
   "source": [
    "for n1 in range(2, 10):\n",
    "    for n2 in range(1, 10):\n",
    "        print(\"{} X {} = {}\".format(n1, n2, n1 * n2))"
   ]
  },
  {
   "cell_type": "markdown",
   "id": "aedef1c0",
   "metadata": {},
   "source": [
    "### 반복문 실습문제\n",
    "* 1부터 10까지 출력하기"
   ]
  },
  {
   "cell_type": "code",
   "execution_count": null,
   "id": "3f7e3ae2",
   "metadata": {},
   "outputs": [],
   "source": []
  },
  {
   "cell_type": "markdown",
   "id": "9330cbde",
   "metadata": {},
   "source": [
    "* 1부터 10까지의 합 구하기"
   ]
  },
  {
   "cell_type": "code",
   "execution_count": null,
   "id": "d056c580",
   "metadata": {},
   "outputs": [],
   "source": []
  },
  {
   "cell_type": "markdown",
   "id": "0d1ca147",
   "metadata": {},
   "source": [
    "* 1부터 10까지의 짝수 출력하기"
   ]
  },
  {
   "cell_type": "code",
   "execution_count": null,
   "id": "0a6345f8",
   "metadata": {},
   "outputs": [],
   "source": []
  },
  {
   "cell_type": "markdown",
   "id": "6c5bf643",
   "metadata": {},
   "source": [
    "* 5의 팩토리얼 구하기 (팩토리얼(Factorial)은 양의 정수 n에 대해 1부터 n까지의 모든 양의 정수의 곱을 나타내는 수학 기호입니다. 팩토리얼은 n!)  \n",
    "ex. 5! = 5 × 4 × 3 × 2 × 1 = 120"
   ]
  },
  {
   "cell_type": "code",
   "execution_count": null,
   "id": "c700b7d0",
   "metadata": {},
   "outputs": [],
   "source": []
  },
  {
   "cell_type": "markdown",
   "id": "becc054e",
   "metadata": {},
   "source": [
    "* 문자열의 길이를 구하는 코드 작성하기"
   ]
  },
  {
   "cell_type": "code",
   "execution_count": null,
   "id": "ade68b6f",
   "metadata": {},
   "outputs": [],
   "source": [
    "string = \"Hello, Python!\""
   ]
  },
  {
   "cell_type": "markdown",
   "id": "9d5ceaf3",
   "metadata": {},
   "source": [
    "* 리스트의 모든 요소를 출력하기"
   ]
  },
  {
   "cell_type": "code",
   "execution_count": 16,
   "id": "f1ace469",
   "metadata": {},
   "outputs": [],
   "source": [
    "fruits = [\"apple\", \"banana\", \"cherry\"]"
   ]
  },
  {
   "cell_type": "markdown",
   "id": "1977bba9",
   "metadata": {},
   "source": [
    "* 리스트의 모든 요소의 길이를 출력하기"
   ]
  },
  {
   "cell_type": "code",
   "execution_count": 17,
   "id": "36601cde",
   "metadata": {},
   "outputs": [],
   "source": [
    "fruits = [\"apple\", \"banana\", \"cherry\"]"
   ]
  },
  {
   "cell_type": "markdown",
   "id": "32e3aa92",
   "metadata": {},
   "source": [
    "* 1부터 100까지의 3의 배수의 합 구하기"
   ]
  },
  {
   "cell_type": "code",
   "execution_count": null,
   "id": "f6bf652c",
   "metadata": {},
   "outputs": [],
   "source": []
  },
  {
   "cell_type": "markdown",
   "id": "a080dde7",
   "metadata": {},
   "source": [
    "* 리스트에서 가장 큰 수 찾기"
   ]
  },
  {
   "cell_type": "code",
   "execution_count": 18,
   "id": "cd37c727",
   "metadata": {},
   "outputs": [],
   "source": [
    "numbers = [3, 1, 7, 4, 9, 2, 6]"
   ]
  },
  {
   "cell_type": "markdown",
   "id": "fd68bc1c",
   "metadata": {},
   "source": [
    "* while문을 사용해서 1~1000까지 3의 배수의 합 구하기. (정답 : 166833)"
   ]
  },
  {
   "cell_type": "code",
   "execution_count": null,
   "id": "230e8f94",
   "metadata": {},
   "outputs": [],
   "source": []
  }
 ],
 "metadata": {
  "kernelspec": {
   "display_name": "Python 3 (ipykernel)",
   "language": "python",
   "name": "python3"
  },
  "language_info": {
   "codemirror_mode": {
    "name": "ipython",
    "version": 3
   },
   "file_extension": ".py",
   "mimetype": "text/x-python",
   "name": "python",
   "nbconvert_exporter": "python",
   "pygments_lexer": "ipython3",
   "version": "3.8.13"
  }
 },
 "nbformat": 4,
 "nbformat_minor": 5
}
