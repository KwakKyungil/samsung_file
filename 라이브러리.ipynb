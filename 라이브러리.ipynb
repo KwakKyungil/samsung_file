{
 "cells": [
  {
   "cell_type": "markdown",
   "id": "5768af72",
   "metadata": {},
   "source": [
    "# 파이썬 기초 프로그래밍 문법\n",
    "## 라이브러리\n",
    "* 라이브러리란, 파이썬과 같은 프로그래밍 언어에서 사용할 수 있는 이미 작성된 코드 모음입니다. 라이브러리는 다양한 기능을 제공하여 개발자가 처음부터 모든 코드를 작성하는 것을 방지하고, 코드의 재사용성을 높여줍니다. 파이썬은 풍부한 라이브러리를 제공하며, 이를 통해 여러 분야의 작업을 쉽게 처리할 수 있습니다.\n",
    "\n",
    "\n",
    "* 라이브러리는 표준 라이브러리와 외부 라이브러리로 구분할 수 있습니다.\n",
    "\n",
    "### 표준 라이브러리\n",
    "* 표준 라이브러리 (Standard Library): 파이썬 설치 시 기본으로 포함되어 있는 라이브러리로, 대표적인 예로 math, random, datetime, os 등이 있습니다. 이러한 라이브러리는 일반적인 프로그래밍 작업에 필요한 기능을 제공하며, 별도의 설치 없이 사용할 수 있습니다."
   ]
  },
  {
   "cell_type": "markdown",
   "id": "2b9b988a",
   "metadata": {},
   "source": [
    "### 외부 라이브러리\n",
    "* 외부 라이브러리 (External Library): 개발자들이 작성한 라이브러리로, 파이썬의 기능을 확장합니다. 외부 라이브러리는 pip 등의 패키지 관리자를 사용하여 설치하며, 다양한 오픈 소스 프로젝트로 관리됩니다. 대표적인 외부 라이브러리로는 numpy, pandas, requests, tensorflow 등이 있습니다."
   ]
  },
  {
   "cell_type": "markdown",
   "id": "a8192a5f",
   "metadata": {},
   "source": [
    "### 라이브러리 불러오기\n",
    "* 기본 import 사용: 라이브러리 전체를 불러옵니다. 이 경우, 라이브러리의 함수를 호출할 때 라이브러리 이름을 함께 적어야 합니다."
   ]
  },
  {
   "cell_type": "code",
   "execution_count": 1,
   "id": "f51cfc9d",
   "metadata": {},
   "outputs": [
    {
     "name": "stdout",
     "output_type": "stream",
     "text": [
      "4.0\n"
     ]
    }
   ],
   "source": [
    "import math\n",
    "\n",
    "result = math.sqrt(16)\n",
    "print(result)"
   ]
  },
  {
   "cell_type": "markdown",
   "id": "79a295d1",
   "metadata": {},
   "source": [
    "* import ... as ... 사용: 라이브러리를 불러올 때 별칭(alias)를 지정하여 사용합니다. 이렇게 하면 코드에서 라이브러리 이름 대신 별칭을 사용하여 짧게 작성할 수 있습니다."
   ]
  },
  {
   "cell_type": "code",
   "execution_count": 2,
   "id": "17f31636",
   "metadata": {},
   "outputs": [
    {
     "name": "stdout",
     "output_type": "stream",
     "text": [
      "4.0\n"
     ]
    }
   ],
   "source": [
    "import math as m\n",
    "\n",
    "result = m.sqrt(16)\n",
    "print(result)"
   ]
  },
  {
   "cell_type": "markdown",
   "id": "b5c4200b",
   "metadata": {},
   "source": [
    "* from ... import ... 사용: 라이브러리의 특정 함수나 클래스만 불러옵니다. 이 경우, 라이브러리 이름 없이 바로 함수나 클래스를 사용할 수 있습니다."
   ]
  },
  {
   "cell_type": "code",
   "execution_count": 3,
   "id": "77718db4",
   "metadata": {},
   "outputs": [
    {
     "name": "stdout",
     "output_type": "stream",
     "text": [
      "4.0\n"
     ]
    }
   ],
   "source": [
    "from math import sqrt\n",
    "\n",
    "result = sqrt(16)\n",
    "print(result)"
   ]
  },
  {
   "cell_type": "markdown",
   "id": "f463f657",
   "metadata": {},
   "source": [
    "* from ... import ... as ... 사용: 특정 함수나 클래스를 불러올 때 별칭을 지정하여 사용합니다."
   ]
  },
  {
   "cell_type": "code",
   "execution_count": 4,
   "id": "4f64acd4",
   "metadata": {},
   "outputs": [
    {
     "name": "stdout",
     "output_type": "stream",
     "text": [
      "4.0\n"
     ]
    }
   ],
   "source": [
    "from math import sqrt as sq\n",
    "\n",
    "result = sq(16)\n",
    "print(result)"
   ]
  },
  {
   "cell_type": "markdown",
   "id": "86e264ab",
   "metadata": {},
   "source": [
    "* from ... import * 사용: 라이브러리의 모든 함수와 클래스를 불러옵니다. 이 경우, 라이브러리 이름 없이 바로 함수나 클래스를 사용할 수 있습니다. 하지만 이 방법은 권장되지 않습니다. 다른 라이브러리와의 충돌이 발생할 수 있고, 코드의 가독성을 떨어뜨리기 때문입니다."
   ]
  },
  {
   "cell_type": "code",
   "execution_count": 6,
   "id": "755ae7d9",
   "metadata": {},
   "outputs": [
    {
     "name": "stdout",
     "output_type": "stream",
     "text": [
      "4.0\n"
     ]
    }
   ],
   "source": [
    "from math import *\n",
    "\n",
    "result = sqrt(16)\n",
    "print(result)"
   ]
  }
 ],
 "metadata": {
  "kernelspec": {
   "display_name": "Python 3 (ipykernel)",
   "language": "python",
   "name": "python3"
  },
  "language_info": {
   "codemirror_mode": {
    "name": "ipython",
    "version": 3
   },
   "file_extension": ".py",
   "mimetype": "text/x-python",
   "name": "python",
   "nbconvert_exporter": "python",
   "pygments_lexer": "ipython3",
   "version": "3.8.13"
  }
 },
 "nbformat": 4,
 "nbformat_minor": 5
}
