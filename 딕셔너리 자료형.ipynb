{
 "cells": [
  {
   "cell_type": "markdown",
   "id": "9a4c5846",
   "metadata": {},
   "source": [
    "# 파이썬 기초 프로그래밍 문법\n",
    "## 딕셔너리 자료형\n",
    "* 딕셔너리(Dictionary)는 키(Key)와 값(Value)의 쌍으로 이루어진 자료형입니다. \n",
    "* 딕셔너리는 중괄호({})를 사용하여 표현하며, 각 키와 값은 콜론(:)으로 구분합니다.\n",
    "\n",
    "### 딕셔너리 만들기\n",
    "* 딕셔너리는 중괄호를 사용하여 생성하고, 키와 값의 쌍을 콜론으로 구분합니다."
   ]
  },
  {
   "cell_type": "code",
   "execution_count": 1,
   "id": "8ecd74dd",
   "metadata": {},
   "outputs": [
    {
     "name": "stdout",
     "output_type": "stream",
     "text": [
      "{'one': 1, 'two': 2, 'three': 3}\n"
     ]
    }
   ],
   "source": [
    "my_dict = {'one': 1, 'two': 2, 'three': 3}\n",
    "print(my_dict)"
   ]
  },
  {
   "cell_type": "markdown",
   "id": "147e9574",
   "metadata": {},
   "source": [
    "### 딕셔너리 값 접근\n",
    "* 키를 사용하여 딕셔너리의 값을 접근할 수 있습니다."
   ]
  },
  {
   "cell_type": "code",
   "execution_count": 2,
   "id": "1e0751c1",
   "metadata": {},
   "outputs": [
    {
     "name": "stdout",
     "output_type": "stream",
     "text": [
      "2\n"
     ]
    }
   ],
   "source": [
    "my_dict = {'one': 1, 'two': 2, 'three': 3}\n",
    "print(my_dict['two'])"
   ]
  },
  {
   "cell_type": "markdown",
   "id": "fd3164f3",
   "metadata": {},
   "source": [
    "### 딕셔너리 값 수정\n",
    "* 키를 사용하여 딕셔너리의 값을 수정할 수 있습니다."
   ]
  },
  {
   "cell_type": "code",
   "execution_count": 3,
   "id": "73fd4fb1",
   "metadata": {},
   "outputs": [
    {
     "name": "stdout",
     "output_type": "stream",
     "text": [
      "{'one': 1, 'two': 22, 'three': 3}\n"
     ]
    }
   ],
   "source": [
    "my_dict = {'one': 1, 'two': 2, 'three': 3}\n",
    "my_dict['two'] = 22\n",
    "print(my_dict)"
   ]
  },
  {
   "cell_type": "markdown",
   "id": "df3ed9f0",
   "metadata": {},
   "source": [
    "### 딕셔너리에 값 추가\n",
    "* 딕셔너리에 새로운 키와 값을 추가할 수 있습니다."
   ]
  },
  {
   "cell_type": "code",
   "execution_count": 4,
   "id": "77177840",
   "metadata": {},
   "outputs": [
    {
     "name": "stdout",
     "output_type": "stream",
     "text": [
      "{'one': 1, 'two': 2, 'three': 3, 'four': 4}\n"
     ]
    }
   ],
   "source": [
    "my_dict = {'one': 1, 'two': 2, 'three': 3}\n",
    "my_dict['four'] = 4\n",
    "print(my_dict)"
   ]
  },
  {
   "cell_type": "markdown",
   "id": "9e8e57d1",
   "metadata": {},
   "source": [
    "### 딕셔너리 값 삭제\n",
    "* del 키워드를 사용하여 딕셔너리의 키-값 쌍을 삭제할 수 있습니다."
   ]
  },
  {
   "cell_type": "code",
   "execution_count": 5,
   "id": "ad1a9407",
   "metadata": {},
   "outputs": [
    {
     "name": "stdout",
     "output_type": "stream",
     "text": [
      "{'one': 1, 'three': 3}\n"
     ]
    }
   ],
   "source": [
    "my_dict = {'one': 1, 'two': 2, 'three': 3}\n",
    "del my_dict['two']\n",
    "print(my_dict)"
   ]
  },
  {
   "cell_type": "markdown",
   "id": "be703210",
   "metadata": {},
   "source": [
    "### 딕셔너리 키 확인\n",
    "* in 연산자를 사용하여 딕셔너리에 특정 키가 있는지 확인할 수 있습니다."
   ]
  },
  {
   "cell_type": "code",
   "execution_count": 6,
   "id": "cd5a53e9",
   "metadata": {},
   "outputs": [
    {
     "name": "stdout",
     "output_type": "stream",
     "text": [
      "True\n"
     ]
    }
   ],
   "source": [
    "my_dict = {'one': 1, 'two': 2, 'three': 3}\n",
    "print('two' in my_dict)"
   ]
  },
  {
   "cell_type": "markdown",
   "id": "afdc8519",
   "metadata": {},
   "source": [
    "### 딕셔너리 길이 확인\n",
    "* len() 함수를 사용하여 딕셔너리의 길이(키-값 쌍의 개수)를 확인할 수 있습니다."
   ]
  },
  {
   "cell_type": "code",
   "execution_count": 7,
   "id": "3bf36f47",
   "metadata": {},
   "outputs": [
    {
     "name": "stdout",
     "output_type": "stream",
     "text": [
      "3\n"
     ]
    }
   ],
   "source": [
    "my_dict = {'one': 1, 'two': 2, 'three': 3}\n",
    "print(len(my_dict))"
   ]
  },
  {
   "cell_type": "markdown",
   "id": "0b36876e",
   "metadata": {},
   "source": [
    "### 딕셔너리 전용 함수"
   ]
  },
  {
   "cell_type": "code",
   "execution_count": 8,
   "id": "608c0eb2",
   "metadata": {},
   "outputs": [
    {
     "name": "stdout",
     "output_type": "stream",
     "text": [
      "Keys: dict_keys(['one', 'two', 'three'])\n",
      "Values: dict_values([1, 2, 3])\n",
      "Items: dict_items([('one', 1), ('two', 2), ('three', 3)])\n"
     ]
    }
   ],
   "source": [
    "# keys(), values(), items() 메소드를 사용하여 딕셔너리의 키, 값, 키-값 쌍을 각각 얻을 수 있습니다.\n",
    "my_dict = {'one': 1, 'two': 2, 'three': 3}\n",
    "\n",
    "keys = my_dict.keys()\n",
    "values = my_dict.values()\n",
    "items = my_dict.items()\n",
    "\n",
    "print(\"Keys:\", keys)\n",
    "print(\"Values:\", values)\n",
    "print(\"Items:\", items)"
   ]
  },
  {
   "cell_type": "code",
   "execution_count": 9,
   "id": "1a2a07d8",
   "metadata": {},
   "outputs": [
    {
     "name": "stdout",
     "output_type": "stream",
     "text": [
      "Not found\n"
     ]
    }
   ],
   "source": [
    "# 딕셔너리의 get() 메서드를 사용하여 키를 통해 값을 가져올 수 있습니다. 키가 없는 경우, 지정된 기본값을 반환합니다.\n",
    "my_dict = {'one': 1, 'two': 2, 'three': 3}\n",
    "value = my_dict.get('four', 'Not found')\n",
    "print(value)"
   ]
  },
  {
   "cell_type": "code",
   "execution_count": 10,
   "id": "89a96e86",
   "metadata": {},
   "outputs": [
    {
     "name": "stdout",
     "output_type": "stream",
     "text": [
      "2\n",
      "{'one': 1, 'three': 3}\n"
     ]
    }
   ],
   "source": [
    "# 딕셔너리의 pop() 메서드를 사용하여 키에 해당하는 키-값 쌍을 삭제하고 값을 반환할 수 있습니다.\n",
    "my_dict = {'one': 1, 'two': 2, 'three': 3}\n",
    "\n",
    "removed_value = my_dict.pop('two')\n",
    "\n",
    "print(removed_value)\n",
    "print(my_dict)"
   ]
  },
  {
   "cell_type": "code",
   "execution_count": 11,
   "id": "78e55dd4",
   "metadata": {},
   "outputs": [
    {
     "name": "stdout",
     "output_type": "stream",
     "text": [
      "{'one': 1, 'two': 2, 'three': 3, 'four': 4, 'five': 5}\n"
     ]
    }
   ],
   "source": [
    "# update() 메서드를 사용하여 한 딕셔너리의 키-값 쌍을 다른 딕셔너리에 추가할 수 있습니다.\n",
    "dict1 = {'one': 1, 'two': 2, 'three': 3}\n",
    "dict2 = {'four': 4, 'five': 5}\n",
    "dict1.update(dict2)\n",
    "print(dict1)"
   ]
  },
  {
   "cell_type": "code",
   "execution_count": 12,
   "id": "8caf596e",
   "metadata": {},
   "outputs": [
    {
     "name": "stdout",
     "output_type": "stream",
     "text": [
      "{}\n"
     ]
    }
   ],
   "source": [
    "# clear() 메서드를 사용하여 딕셔너리의 모든 키-값 쌍을 삭제할 수 있습니다.\n",
    "my_dict = {'one': 1, 'two': 2, 'three': 3}\n",
    "my_dict.clear()\n",
    "print(my_dict)"
   ]
  },
  {
   "cell_type": "markdown",
   "id": "957c9b10",
   "metadata": {},
   "source": [
    "### 딕셔너리 자료형 실습문제\n",
    "* 딕셔너리 생성  \n",
    "빈 딕셔너리를 생성하세요."
   ]
  },
  {
   "cell_type": "code",
   "execution_count": null,
   "id": "01eb31a3",
   "metadata": {},
   "outputs": [],
   "source": []
  },
  {
   "cell_type": "markdown",
   "id": "64ba1ee9",
   "metadata": {},
   "source": [
    "* 딕셔너리에 값 추가  \n",
    "이름(name)과 나이(age)를 키로 갖고, \"Alice\"와 25를 값으로 갖는 딕셔너리를 생성하세요."
   ]
  },
  {
   "cell_type": "markdown",
   "id": "80ee463e",
   "metadata": {},
   "source": []
  },
  {
   "cell_type": "markdown",
   "id": "1c770b9c",
   "metadata": {},
   "source": [
    "* 딕셔너리에서 값 가져오기  \n",
    "주어진 딕셔너리에서 'age' 키에 해당하는 값을 출력하세요."
   ]
  },
  {
   "cell_type": "code",
   "execution_count": 14,
   "id": "ad309feb",
   "metadata": {},
   "outputs": [],
   "source": [
    "info = {\"name\": \"Alice\", \"age\": 25}"
   ]
  },
  {
   "cell_type": "markdown",
   "id": "5f830f42",
   "metadata": {},
   "source": [
    "* 딕셔너리 값 수정  \n",
    "주어진 딕셔너리에서 'age' 키의 값을 30으로 변경하세요."
   ]
  },
  {
   "cell_type": "code",
   "execution_count": 15,
   "id": "efb48720",
   "metadata": {},
   "outputs": [],
   "source": [
    "info = {\"name\": \"Alice\", \"age\": 25}"
   ]
  },
  {
   "cell_type": "markdown",
   "id": "1a9b72ac",
   "metadata": {},
   "source": [
    "* 딕셔너리 길이 확인  \n",
    "주어진 딕셔너리의 길이(키-값 쌍의 개수)를 출력하세요."
   ]
  },
  {
   "cell_type": "code",
   "execution_count": 16,
   "id": "18d6ab39",
   "metadata": {},
   "outputs": [],
   "source": [
    "info = {\"name\": \"Alice\", \"age\": 25, \"city\": \"New York\"}"
   ]
  },
  {
   "cell_type": "markdown",
   "id": "40a88863",
   "metadata": {},
   "source": [
    "* 딕셔너리에서 키-값 쌍 삭제  \n",
    "주어진 딕셔너리에서 'city' 키에 해당하는 키-값 쌍을 삭제하세요."
   ]
  },
  {
   "cell_type": "code",
   "execution_count": 17,
   "id": "b77301ca",
   "metadata": {},
   "outputs": [],
   "source": [
    "info = {\"name\": \"Alice\", \"age\": 25, \"city\": \"New York\"}"
   ]
  },
  {
   "cell_type": "markdown",
   "id": "ccd1bef3",
   "metadata": {},
   "source": [
    "* 딕셔너리에 특정 키가 있는지 확인  \n",
    "주어진 딕셔너리에 'city'라는 키가 있는지 확인하세요."
   ]
  },
  {
   "cell_type": "code",
   "execution_count": 18,
   "id": "e84b9fa3",
   "metadata": {},
   "outputs": [],
   "source": [
    "info = {\"name\": \"Alice\", \"age\": 25, \"city\": \"New York\"}"
   ]
  },
  {
   "cell_type": "markdown",
   "id": "20f3035e",
   "metadata": {},
   "source": [
    "* 딕셔너리에서 키-값 쌍 가져오기  \n",
    "주어진 딕셔너리에서 'name' 키와 그에 대응하는 값을 출력하세요."
   ]
  },
  {
   "cell_type": "code",
   "execution_count": 19,
   "id": "537d767d",
   "metadata": {},
   "outputs": [],
   "source": [
    "info = {\"name\": \"Alice\", \"age\": 25, \"city\": \"New York\"}"
   ]
  },
  {
   "cell_type": "markdown",
   "id": "19538877",
   "metadata": {},
   "source": [
    "* 딕셔너리에서 모든 키 가져오기  \n",
    "주어진 딕셔너리의 모든 키를 리스트 형태로 출력하세요."
   ]
  },
  {
   "cell_type": "code",
   "execution_count": 20,
   "id": "aa1b06c9",
   "metadata": {},
   "outputs": [],
   "source": [
    "info = {\"name\": \"Alice\", \"age\": 25, \"city\": \"New York\"}"
   ]
  },
  {
   "cell_type": "markdown",
   "id": "6d9c130e",
   "metadata": {},
   "source": [
    "* 딕셔너리에서 모든 값 가져오기  \n",
    "주어진 딕셔너리의 모든 값을 리스트 형태로 출력하세요."
   ]
  },
  {
   "cell_type": "code",
   "execution_count": 21,
   "id": "73321071",
   "metadata": {},
   "outputs": [],
   "source": [
    "info = {\"name\": \"Alice\", \"age\": 25, \"city\": \"New York\"}"
   ]
  }
 ],
 "metadata": {
  "kernelspec": {
   "display_name": "Python 3 (ipykernel)",
   "language": "python",
   "name": "python3"
  },
  "language_info": {
   "codemirror_mode": {
    "name": "ipython",
    "version": 3
   },
   "file_extension": ".py",
   "mimetype": "text/x-python",
   "name": "python",
   "nbconvert_exporter": "python",
   "pygments_lexer": "ipython3",
   "version": "3.8.13"
  }
 },
 "nbformat": 4,
 "nbformat_minor": 5
}
