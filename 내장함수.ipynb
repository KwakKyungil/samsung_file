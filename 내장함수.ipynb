{
 "cells": [
  {
   "cell_type": "markdown",
   "id": "ab6ea20d",
   "metadata": {},
   "source": [
    "# 파이썬 기초 프로그래밍 문법\n",
    "## 내장함수\n",
    "* 내장함수(Built-in functions)는 파이썬 프로그래밍 언어에 이미 포함되어 있는 기본적인 함수들을 의미합니다. 이러한 함수들은 특별한 모듈을 임포트(import)할 필요 없이 바로 사용할 수 있습니다. 내장 함수는 프로그래밍 작업을 더욱 쉽고 효율적으로 수행할 수 있도록 도와주는 다양한 기능을 제공합니다."
   ]
  },
  {
   "cell_type": "markdown",
   "id": "b8fded9e",
   "metadata": {},
   "source": [
    "* abs(x): 숫자 x의 절댓값을 반환합니다."
   ]
  },
  {
   "cell_type": "code",
   "execution_count": 1,
   "id": "065c7119",
   "metadata": {},
   "outputs": [
    {
     "name": "stdout",
     "output_type": "stream",
     "text": [
      "5\n"
     ]
    }
   ],
   "source": [
    "abs_value = abs(-5)\n",
    "print(abs_value)  # 결과: 5"
   ]
  },
  {
   "cell_type": "markdown",
   "id": "0ad44dea",
   "metadata": {},
   "source": [
    "* all(iterable): iterable(리스트, 튜플, 집합 등)의 모든 요소가 참이면 True를, 하나라도 거짓이면 False를 반환합니다."
   ]
  },
  {
   "cell_type": "code",
   "execution_count": 2,
   "id": "58d30bfe",
   "metadata": {},
   "outputs": [
    {
     "name": "stdout",
     "output_type": "stream",
     "text": [
      "False\n"
     ]
    }
   ],
   "source": [
    "result = all([True, False, True])\n",
    "print(result)  # 결과: False"
   ]
  },
  {
   "cell_type": "markdown",
   "id": "3c90b135",
   "metadata": {},
   "source": [
    "* any(iterable): iterable의 요소 중 하나라도 참이면 True를, 모두 거짓이면 False를 반환합니다.  \n",
    "(Iterable(반복 가능한 객체)은 순회가능한 객체로서, 여러 개의 원소를 차례대로 접근할 수 있는 객체를 의미합니다. 파이썬에서 리스트, 튜플, 문자열, 딕셔너리, 집합 등이 대표적인 iterable입니다.)"
   ]
  },
  {
   "cell_type": "code",
   "execution_count": 3,
   "id": "1ac03776",
   "metadata": {},
   "outputs": [
    {
     "name": "stdout",
     "output_type": "stream",
     "text": [
      "True\n"
     ]
    }
   ],
   "source": [
    "result = any([False, False, True])\n",
    "print(result)  # 결과: True"
   ]
  },
  {
   "cell_type": "markdown",
   "id": "65edba60",
   "metadata": {},
   "source": [
    "* len(s): 객체 s의 길이(요소의 수)를 반환합니다."
   ]
  },
  {
   "cell_type": "code",
   "execution_count": 4,
   "id": "26b55504",
   "metadata": {},
   "outputs": [
    {
     "name": "stdout",
     "output_type": "stream",
     "text": [
      "13\n"
     ]
    }
   ],
   "source": [
    "length = len(\"Hello, World!\")\n",
    "print(length)  # 결과: 13"
   ]
  },
  {
   "cell_type": "markdown",
   "id": "df38b72b",
   "metadata": {},
   "source": [
    "* max(iterable, *[, key, default]): iterable에서 최대값을 반환합니다. key 함수를 사용하여 비교 기준을 지정할 수 있습니다."
   ]
  },
  {
   "cell_type": "code",
   "execution_count": 5,
   "id": "f7a13a8c",
   "metadata": {},
   "outputs": [
    {
     "name": "stdout",
     "output_type": "stream",
     "text": [
      "5\n"
     ]
    }
   ],
   "source": [
    "maximum = max([1, 2, 3, 4, 5])\n",
    "print(maximum)  # 결과: 5"
   ]
  },
  {
   "cell_type": "markdown",
   "id": "2c15e033",
   "metadata": {},
   "source": [
    "* min(iterable, *[, key, default]): iterable에서 최소값을 반환합니다. key 함수를 사용하여 비교 기준을 지정할 수 있습니다."
   ]
  },
  {
   "cell_type": "code",
   "execution_count": 6,
   "id": "db2dd941",
   "metadata": {},
   "outputs": [
    {
     "name": "stdout",
     "output_type": "stream",
     "text": [
      "1\n"
     ]
    }
   ],
   "source": [
    "minimum = min([1, 2, 3, 4, 5])\n",
    "print(minimum)  # 결과: 1"
   ]
  },
  {
   "cell_type": "markdown",
   "id": "e83cad56",
   "metadata": {},
   "source": [
    "* reversed(sequence): 주어진 시퀀스(sequence)를 역순으로 반환합니다."
   ]
  },
  {
   "cell_type": "code",
   "execution_count": 7,
   "id": "46a13463",
   "metadata": {},
   "outputs": [
    {
     "name": "stdout",
     "output_type": "stream",
     "text": [
      "[5, 4, 3, 2, 1]\n"
     ]
    }
   ],
   "source": [
    "numbers = [1, 2, 3, 4, 5]\n",
    "reversed_numbers = list(reversed(numbers))\n",
    "print(reversed_numbers)  # 결과: [5, 4, 3, 2, 1]"
   ]
  },
  {
   "cell_type": "markdown",
   "id": "69dff156",
   "metadata": {},
   "source": [
    "* round(number, ndigits=None): 숫자를 가장 가까운 정수로 반올림합니다. 선택적으로 ndigits를 지정하여 소수점 이하 자릿수를 반올림할 수 있습니다."
   ]
  },
  {
   "cell_type": "code",
   "execution_count": 8,
   "id": "fca44034",
   "metadata": {},
   "outputs": [
    {
     "name": "stdout",
     "output_type": "stream",
     "text": [
      "3\n"
     ]
    }
   ],
   "source": [
    "rounded_value = round(3.14159)\n",
    "print(rounded_value)  # 결과: 3"
   ]
  },
  {
   "cell_type": "code",
   "execution_count": 9,
   "id": "62b17bd6",
   "metadata": {},
   "outputs": [
    {
     "name": "stdout",
     "output_type": "stream",
     "text": [
      "3.14\n"
     ]
    }
   ],
   "source": [
    "rounded_value_with_digits = round(3.14159, 2)\n",
    "print(rounded_value_with_digits)  # 결과: 3.14"
   ]
  },
  {
   "cell_type": "markdown",
   "id": "db12f9d5",
   "metadata": {},
   "source": [
    "* sorted(iterable, *, key=None, reverse=False): 주어진 iterable을 정렬하여 새 리스트를 반환합니다. key 함수를 사용하여 정렬 기준을 지정하고, reverse를 True로 설정하여 내림차순 정렬을 수행할 수 있습니다."
   ]
  },
  {
   "cell_type": "code",
   "execution_count": 10,
   "id": "33fd3560",
   "metadata": {},
   "outputs": [
    {
     "name": "stdout",
     "output_type": "stream",
     "text": [
      "[1, 2, 3, 4, 5]\n"
     ]
    }
   ],
   "source": [
    "numbers = [5, 3, 1, 4, 2]\n",
    "sorted_numbers = sorted(numbers)\n",
    "print(sorted_numbers)  # 결과: [1, 2, 3, 4, 5]"
   ]
  },
  {
   "cell_type": "markdown",
   "id": "60acf688",
   "metadata": {},
   "source": [
    "* sum(iterable, start=0): iterable의 모든 요소를 합산하고, 선택적으로 시작값(start)을 더한 결과를 반환합니다."
   ]
  },
  {
   "cell_type": "code",
   "execution_count": 11,
   "id": "7727164f",
   "metadata": {},
   "outputs": [
    {
     "name": "stdout",
     "output_type": "stream",
     "text": [
      "15\n"
     ]
    }
   ],
   "source": [
    "numbers = [1, 2, 3, 4, 5]\n",
    "total = sum(numbers)\n",
    "print(total)  # 결과: 15"
   ]
  }
 ],
 "metadata": {
  "kernelspec": {
   "display_name": "Python 3 (ipykernel)",
   "language": "python",
   "name": "python3"
  },
  "language_info": {
   "codemirror_mode": {
    "name": "ipython",
    "version": 3
   },
   "file_extension": ".py",
   "mimetype": "text/x-python",
   "name": "python",
   "nbconvert_exporter": "python",
   "pygments_lexer": "ipython3",
   "version": "3.8.13"
  }
 },
 "nbformat": 4,
 "nbformat_minor": 5
}
