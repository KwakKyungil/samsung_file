{
 "cells": [
  {
   "cell_type": "markdown",
   "id": "f7d0cf87",
   "metadata": {},
   "source": [
    "# 파이썬 기초 프로그래밍 문법\n",
    "## 함수 만들기\n",
    "* 파이썬에서 함수를 정의하려면 def 키워드를 사용합니다. 함수는 이름, 괄호로 둘러싸인 입력 매개변수 목록 및 콜론(:)으로 구성됩니다. 함수 내의 코드는 들여쓰기를 통해 정의되며, return 문을 사용하여 값을 반환할 수 있습니다."
   ]
  },
  {
   "cell_type": "code",
   "execution_count": 2,
   "id": "6a5e178d",
   "metadata": {},
   "outputs": [],
   "source": [
    "# 함수를 정의합니다. 함수 이름은 add_numbers이며, a와 b라는 두 매개변수를 받습니다.\n",
    "def add_numbers(a, b):\n",
    "    # 두 매개변수의 합을 계산합니다.\n",
    "    result = a + b\n",
    "    # 계산된 합을 반환합니다.\n",
    "    return result"
   ]
  },
  {
   "cell_type": "code",
   "execution_count": 3,
   "id": "dcc752ea",
   "metadata": {},
   "outputs": [
    {
     "name": "stdout",
     "output_type": "stream",
     "text": [
      "The sum of 3 and 5 is: 8\n"
     ]
    }
   ],
   "source": [
    "# 함수를 호출하여 결과를 출력합니다.\n",
    "sum_result = add_numbers(3, 5)\n",
    "print(\"The sum of 3 and 5 is:\", sum_result)"
   ]
  },
  {
   "cell_type": "markdown",
   "id": "a20b766f",
   "metadata": {},
   "source": [
    "### 매개변수가 없는 함수\n",
    "* 매개변수가 없는 함수는 특정 작업을 수행할 때 입력값이 필요하지 않은 경우에 사용됩니다. 이러한 함수는 주로 프로그램에서 고정된 결과를 반환하거나, 특정 작업을 실행하는 데 사용됩니다."
   ]
  },
  {
   "cell_type": "code",
   "execution_count": 10,
   "id": "8ae89fd0",
   "metadata": {},
   "outputs": [
    {
     "name": "stdout",
     "output_type": "stream",
     "text": [
      "Hello, World!\n"
     ]
    }
   ],
   "source": [
    "def greet():\n",
    "    print(\"Hello, World!\")\n",
    "\n",
    "greet()"
   ]
  },
  {
   "cell_type": "markdown",
   "id": "af6084ee",
   "metadata": {},
   "source": [
    "### 매개변수는 있지만, 반환값이 없는 함수\n",
    "* 매개변수가 있는 함수이지만 반환값이 없는 함수에 대한 설명이 빠졌습니다. 이러한 함수는 주로 입력받은 매개변수를 이용해 작업을 수행하고, 결과를 출력하는 등의 작업을 수행하지만, 반환값을 제공하지 않는 경우입니다."
   ]
  },
  {
   "cell_type": "code",
   "execution_count": 11,
   "id": "5ca0544d",
   "metadata": {},
   "outputs": [
    {
     "name": "stdout",
     "output_type": "stream",
     "text": [
      "16\n"
     ]
    }
   ],
   "source": [
    "def print_square(x):\n",
    "    print(x * x)\n",
    "\n",
    "print_square(4)"
   ]
  },
  {
   "cell_type": "markdown",
   "id": "391bdf2d",
   "metadata": {},
   "source": [
    "### 기본 매개변수\n",
    "* 함수의 매개변수에 기본값을 지정할 수 있습니다. 이렇게 하면 함수를 호출할 때 해당 매개변수에 값을 전달하지 않으면 기본값이 사용됩니다."
   ]
  },
  {
   "cell_type": "code",
   "execution_count": 4,
   "id": "e65ac81e",
   "metadata": {},
   "outputs": [],
   "source": [
    "def greet(name, greeting=\"Hello\"):\n",
    "    print(greeting, name)"
   ]
  },
  {
   "cell_type": "code",
   "execution_count": 5,
   "id": "3af82c13",
   "metadata": {},
   "outputs": [
    {
     "name": "stdout",
     "output_type": "stream",
     "text": [
      "Hello John\n"
     ]
    }
   ],
   "source": [
    "greet(\"John\")  # 출력: Hello John"
   ]
  },
  {
   "cell_type": "code",
   "execution_count": 6,
   "id": "23ae8f18",
   "metadata": {},
   "outputs": [
    {
     "name": "stdout",
     "output_type": "stream",
     "text": [
      "Hi Jane\n"
     ]
    }
   ],
   "source": [
    "greet(\"Jane\", \"Hi\")  # 출력: Hi Jane"
   ]
  },
  {
   "cell_type": "markdown",
   "id": "33ce6922",
   "metadata": {},
   "source": [
    "### 가변 인자\n",
    "* 함수에 가변 인자를 사용하여 개수가 정해지지 않은 매개변수를 전달할 수 있습니다. 이를 위해 매개변수 앞에 별표(*)를 붙입니다. 가변 인자는 함수 내부에서 튜플로 처리됩니다."
   ]
  },
  {
   "cell_type": "code",
   "execution_count": 7,
   "id": "383ccbe1",
   "metadata": {},
   "outputs": [
    {
     "name": "stdout",
     "output_type": "stream",
     "text": [
      "(1, 2, 3)\n"
     ]
    }
   ],
   "source": [
    "def print_args(*args):\n",
    "    print(args)\n",
    "\n",
    "print_args(1, 2, 3)  # 출력: (1, 2, 3)"
   ]
  },
  {
   "cell_type": "markdown",
   "id": "b868e462",
   "metadata": {},
   "source": [
    "### 키워드 인자\n",
    "* 함수에 이름이 지정된 인자를 전달할 수 있습니다. 이를 위해 매개변수 앞에 두 개의 별표(**)를 붙입니다. 키워드 인자는 함수 내부에서 딕셔너리로 처리됩니다."
   ]
  },
  {
   "cell_type": "code",
   "execution_count": 8,
   "id": "cac8b932",
   "metadata": {},
   "outputs": [
    {
     "name": "stdout",
     "output_type": "stream",
     "text": [
      "{'a': 1, 'b': 2, 'c': 3}\n"
     ]
    }
   ],
   "source": [
    "def print_kwargs(**kwargs):\n",
    "    print(kwargs)\n",
    "\n",
    "print_kwargs(a=1, b=2, c=3)  # 출력: {'a': 1, 'b': 2, 'c': 3}"
   ]
  },
  {
   "cell_type": "markdown",
   "id": "d1b920b5",
   "metadata": {},
   "source": [
    "### lambda\n",
    "* 람다 함수는 간단한 함수를 익명으로 생성할 수 있습니다. lambda 키워드를 사용하여 람다 함수를 정의합니다."
   ]
  },
  {
   "cell_type": "code",
   "execution_count": 9,
   "id": "b1a8b6cd",
   "metadata": {},
   "outputs": [
    {
     "name": "stdout",
     "output_type": "stream",
     "text": [
      "7\n"
     ]
    }
   ],
   "source": [
    "add = lambda x, y: x + y\n",
    "print(add(3, 4))  # 출력: 7"
   ]
  },
  {
   "cell_type": "markdown",
   "id": "5524329e",
   "metadata": {},
   "source": [
    "### 함수 실습문제\n",
    "* 두 수의 합을 출력하는 함수 만들기  \n",
    "2개의 숫자를 매개변수로 입력해야 합니다."
   ]
  },
  {
   "cell_type": "code",
   "execution_count": null,
   "id": "5fd0ee1d",
   "metadata": {},
   "outputs": [],
   "source": []
  },
  {
   "cell_type": "markdown",
   "id": "e9591356",
   "metadata": {},
   "source": [
    "* 주어진 숫자의 제곱값을 반환하는 함수 만들기  \n",
    "1개의 숫자를 매개변수로 입력해야 합니다."
   ]
  },
  {
   "cell_type": "code",
   "execution_count": null,
   "id": "26b8941d",
   "metadata": {},
   "outputs": [],
   "source": []
  },
  {
   "cell_type": "markdown",
   "id": "0ca29d44",
   "metadata": {},
   "source": [
    "* 주어진 숫자가 짝수인지 확인하는 함수 만들기  \n",
    "1개의 숫자를 매개변수로 입력해야 합니다."
   ]
  },
  {
   "cell_type": "code",
   "execution_count": null,
   "id": "64144c32",
   "metadata": {},
   "outputs": [],
   "source": []
  },
  {
   "cell_type": "markdown",
   "id": "96a25f6b",
   "metadata": {},
   "source": [
    "* 주어진 문자열의 길이를 반환하는 함수 만들기  \n",
    "문자열을 매개변수로 입력해야 합니다."
   ]
  },
  {
   "cell_type": "code",
   "execution_count": null,
   "id": "6f474975",
   "metadata": {},
   "outputs": [],
   "source": []
  },
  {
   "cell_type": "markdown",
   "id": "c67196df",
   "metadata": {},
   "source": [
    "* 리스트에 있는 모든 숫자의 평균을 구하는 함수 만들기  \n",
    "리스트를 매개변수로 입력해야 합니다."
   ]
  },
  {
   "cell_type": "code",
   "execution_count": null,
   "id": "6a1ba645",
   "metadata": {},
   "outputs": [],
   "source": []
  },
  {
   "cell_type": "markdown",
   "id": "c97e475d",
   "metadata": {},
   "source": [
    "* 팩토리얼 계산하는 함수 만들기  \n",
    "1개의 숫자를 매개변수로 입력해야 합니다."
   ]
  },
  {
   "cell_type": "code",
   "execution_count": null,
   "id": "f9c56a80",
   "metadata": {},
   "outputs": [],
   "source": []
  }
 ],
 "metadata": {
  "kernelspec": {
   "display_name": "Python 3 (ipykernel)",
   "language": "python",
   "name": "python3"
  },
  "language_info": {
   "codemirror_mode": {
    "name": "ipython",
    "version": 3
   },
   "file_extension": ".py",
   "mimetype": "text/x-python",
   "name": "python",
   "nbconvert_exporter": "python",
   "pygments_lexer": "ipython3",
   "version": "3.8.13"
  }
 },
 "nbformat": 4,
 "nbformat_minor": 5
}
