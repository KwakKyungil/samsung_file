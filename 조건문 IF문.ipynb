{
 "cells": [
  {
   "cell_type": "markdown",
   "id": "2c728a97",
   "metadata": {},
   "source": [
    "# 파이썬 기초 프로그래밍 문법\n",
    "## 조건문 IF문\n",
    "* 조건문(if문)은 특정 조건이 참(True)인지 거짓(False)인지에 따라 코드의 실행 여부를 결정하는 제어문입니다. 조건문을 사용하면 프로그램의 실행 흐름을 제어할 수 있습니다.\n",
    "\n",
    "### 조건문 if문의 기본 구조\n",
    "* 조건문은 if 키워드 다음에 조건을 작성하고, 콜론(:)으로 구문을 종료합니다. 그 아래 들여쓰기된 코드 블록은 해당 조건이 참일 때만 실행됩니다."
   ]
  },
  {
   "cell_type": "code",
   "execution_count": null,
   "id": "91954d72",
   "metadata": {},
   "outputs": [],
   "source": [
    "if 조건:\n",
    "    실행할 코드"
   ]
  },
  {
   "cell_type": "code",
   "execution_count": 1,
   "id": "009f1a6a",
   "metadata": {},
   "outputs": [
    {
     "name": "stdout",
     "output_type": "stream",
     "text": [
      "You are an adult.\n"
     ]
    }
   ],
   "source": [
    "age = 20\n",
    "\n",
    "if age >= 18:\n",
    "    print(\"You are an adult.\")"
   ]
  },
  {
   "cell_type": "markdown",
   "id": "20a38483",
   "metadata": {},
   "source": [
    "### else문\n",
    "* else는 이전 조건(if 또는 elif)이 모두 거짓일 때 실행되는 코드 블록을 나타냅니다. \n",
    "* else는 선택 사항이며, 한 if문에서 최대 하나만 사용할 수 있습니다. else는 항상 if문 또는 elif 문 다음에 나와야 합니다."
   ]
  },
  {
   "cell_type": "code",
   "execution_count": 2,
   "id": "ea5efecb",
   "metadata": {},
   "outputs": [
    {
     "name": "stdout",
     "output_type": "stream",
     "text": [
      "You are not an adult.\n"
     ]
    }
   ],
   "source": [
    "age = 16\n",
    "\n",
    "if age >= 18:\n",
    "    print(\"You are an adult.\")\n",
    "else:\n",
    "    print(\"You are not an adult.\")"
   ]
  },
  {
   "cell_type": "markdown",
   "id": "93af249c",
   "metadata": {},
   "source": [
    "### elif문\n",
    "* elif는 'else if'의 줄임말로, 이전 조건이 거짓(False)일 때 다음 조건을 검사합니다. \n",
    "* 한 if 문에서 여러 개의 elif를 사용할 수 있습니다. elif는 반드시 if문 다음에 나와야 합니다."
   ]
  },
  {
   "cell_type": "code",
   "execution_count": 3,
   "id": "ff15623e",
   "metadata": {},
   "outputs": [
    {
     "name": "stdout",
     "output_type": "stream",
     "text": [
      "Your grade is: C\n"
     ]
    }
   ],
   "source": [
    "score = 75\n",
    "\n",
    "if score >= 90:\n",
    "    grade = \"A\"\n",
    "elif score >= 80:\n",
    "    grade = \"B\"\n",
    "elif score >= 70:\n",
    "    grade = \"C\"\n",
    "elif score >= 60:\n",
    "    grade = \"D\"\n",
    "else:\n",
    "    grade = \"F\"\n",
    "\n",
    "print(\"Your grade is:\", grade)"
   ]
  },
  {
   "cell_type": "markdown",
   "id": "2f6500f7",
   "metadata": {},
   "source": [
    "### 조건식 작성\n",
    "* 조건문에서 사용되는 조건식은 비교 연산자를 활용하여 작성할 수 있습니다. 예를 들어, ==, !=, <, >, <=, >=와 같은 비교 연산자를 사용할 수 있습니다."
   ]
  },
  {
   "cell_type": "code",
   "execution_count": 4,
   "id": "4e996581",
   "metadata": {},
   "outputs": [
    {
     "name": "stdout",
     "output_type": "stream",
     "text": [
      "x is 10\n",
      "x is not 5\n",
      "x is greater than 5\n"
     ]
    }
   ],
   "source": [
    "x = 10\n",
    "\n",
    "# x가 10과 같은지 확인하는 조건문\n",
    "if x == 10:\n",
    "    print(\"x is 10\")\n",
    "\n",
    "# x가 5와 다른지 확인하는 조건문\n",
    "if x != 5:\n",
    "    print(\"x is not 5\")\n",
    "\n",
    "# x가 5보다 큰지 확인하는 조건문\n",
    "if x > 5:\n",
    "    print(\"x is greater than 5\")"
   ]
  },
  {
   "cell_type": "markdown",
   "id": "abfa7b10",
   "metadata": {},
   "source": [
    "### 논리 연산자를 사용한 복합 조건\n",
    "* 복합 조건을 사용하려면 논리 연산자를 활용할 수 있습니다. 파이썬에서 논리 연산자로는 and, or, not이 있습니다."
   ]
  },
  {
   "cell_type": "code",
   "execution_count": 5,
   "id": "abf789d8",
   "metadata": {},
   "outputs": [
    {
     "name": "stdout",
     "output_type": "stream",
     "text": [
      "x is greater than 5 and y is less than 30\n",
      "x is 10 or y is 30\n",
      "x is not less than 5\n"
     ]
    }
   ],
   "source": [
    "x = 10\n",
    "y = 20\n",
    "\n",
    "# x가 5보다 크고 y가 30보다 작은지 확인하는 조건문\n",
    "if x > 5 and y < 30:\n",
    "    print(\"x is greater than 5 and y is less than 30\")\n",
    "\n",
    "# x가 10이거나 y가 30인지 확인하는 조건문\n",
    "if x == 10 or y == 30:\n",
    "    print(\"x is 10 or y is 30\")\n",
    "\n",
    "# x가 5보다 작지 않은지 확인하는 조건문 (x가 5보다 크거나 같은지 확인하는 조건문)\n",
    "if not x < 5:\n",
    "    print(\"x is not less than 5\")"
   ]
  },
  {
   "cell_type": "markdown",
   "id": "61da7cb5",
   "metadata": {},
   "source": [
    "### 중첩된 if문\n",
    "* if문 안에 다른 if문을 포함시킬 수 있습니다. 이렇게 중첩된 if문을 사용하면 더 복잡한 조건을 처리할 수 있습니다."
   ]
  },
  {
   "cell_type": "code",
   "execution_count": 6,
   "id": "a081d0a8",
   "metadata": {},
   "outputs": [
    {
     "name": "stdout",
     "output_type": "stream",
     "text": [
      "x is greater than 5\n",
      "y is less than 30\n"
     ]
    }
   ],
   "source": [
    "x = 10\n",
    "y = 20\n",
    "\n",
    "if x > 5:\n",
    "    print(\"x is greater than 5\")\n",
    "    if y < 30:\n",
    "        print(\"y is less than 30\")"
   ]
  },
  {
   "cell_type": "markdown",
   "id": "91665d85",
   "metadata": {},
   "source": [
    "### 한 줄로 if문 작성하기\n",
    "* 한 줄로 if문을 작성할 수도 있습니다. 이 방법은 간단한 조건문에 적합합니다."
   ]
  },
  {
   "cell_type": "code",
   "execution_count": 7,
   "id": "06f9080c",
   "metadata": {},
   "outputs": [
    {
     "name": "stdout",
     "output_type": "stream",
     "text": [
      "x is greater than 5\n"
     ]
    }
   ],
   "source": [
    "x = 10\n",
    "if x > 5: print(\"x is greater than 5\")"
   ]
  },
  {
   "cell_type": "markdown",
   "id": "3728d03b",
   "metadata": {},
   "source": [
    "### 조건부 표현식\n",
    "* 조건부 표현식은 한 줄로 값을 할당할 때 if-else문을 사용하는 방법입니다. 이렇게 하면 코드를 더 간결하게 작성할 수 있습니다."
   ]
  },
  {
   "cell_type": "code",
   "execution_count": 8,
   "id": "501cee03",
   "metadata": {},
   "outputs": [
    {
     "name": "stdout",
     "output_type": "stream",
     "text": [
      "x is greater than 5\n"
     ]
    }
   ],
   "source": [
    "x = 10\n",
    "result = \"x is greater than 5\" if x > 5 else \"x is less than or equal to 5\"\n",
    "print(result)"
   ]
  },
  {
   "cell_type": "markdown",
   "id": "2b40d7bb",
   "metadata": {},
   "source": [
    "### 조건문 if문 실습문제\n",
    "* 양수 판별하기  \n",
    "주어진 정수 x가 양수인지 확인하세요."
   ]
  },
  {
   "cell_type": "code",
   "execution_count": 9,
   "id": "02a61733",
   "metadata": {},
   "outputs": [],
   "source": [
    "x = 5"
   ]
  },
  {
   "cell_type": "markdown",
   "id": "4f8c764f",
   "metadata": {},
   "source": [
    "* 짝수 판별하기  \n",
    "주어진 정수 y가 짝수인지 확인하세요."
   ]
  },
  {
   "cell_type": "code",
   "execution_count": 10,
   "id": "c8fec83a",
   "metadata": {},
   "outputs": [],
   "source": [
    "y = 6"
   ]
  },
  {
   "cell_type": "markdown",
   "id": "8bb61585",
   "metadata": {},
   "source": [
    "* 최대값 찾기  \n",
    "주어진 두 정수 a와 b 중에서 큰 값을 출력하세요."
   ]
  },
  {
   "cell_type": "code",
   "execution_count": 11,
   "id": "111b014c",
   "metadata": {},
   "outputs": [],
   "source": [
    "a = 7\n",
    "b = 10"
   ]
  },
  {
   "cell_type": "markdown",
   "id": "4c83ed6d",
   "metadata": {},
   "source": [
    "* 등급 판별하기  \n",
    "주어진 점수 score에 따라 등급을 출력하세요. (90 이상: A, 80 이상: B, 70 이상: C, 나머지: F)"
   ]
  },
  {
   "cell_type": "code",
   "execution_count": 12,
   "id": "7729411e",
   "metadata": {},
   "outputs": [],
   "source": [
    "score = 85"
   ]
  },
  {
   "cell_type": "markdown",
   "id": "1ed78d5c",
   "metadata": {},
   "source": [
    "* 숫자 범위 판별하기  \n",
    "주어진 정수 num이 1부터 100 사이인지 확인하세요."
   ]
  },
  {
   "cell_type": "code",
   "execution_count": 13,
   "id": "c1c2bc58",
   "metadata": {},
   "outputs": [],
   "source": [
    "num = 45"
   ]
  },
  {
   "cell_type": "markdown",
   "id": "40c2a218",
   "metadata": {},
   "source": [
    "* 숫자의 부호 판별하기  \n",
    "주어진 숫자 n이 양수, 음수, 0인지 판별하세요."
   ]
  },
  {
   "cell_type": "code",
   "execution_count": 14,
   "id": "35ea4ea6",
   "metadata": {},
   "outputs": [],
   "source": [
    "n = -3"
   ]
  },
  {
   "cell_type": "markdown",
   "id": "27b1f0f6",
   "metadata": {},
   "source": [
    "* 가장 큰 숫자 찾기  \n",
    "주어진 세 개의 정수 x, y, z 중 가장 큰 값을 출력하세요."
   ]
  },
  {
   "cell_type": "code",
   "execution_count": 15,
   "id": "29eba459",
   "metadata": {},
   "outputs": [],
   "source": [
    "x = 15\n",
    "y = 10\n",
    "z = 20"
   ]
  },
  {
   "cell_type": "markdown",
   "id": "ea72a8f1",
   "metadata": {},
   "source": [
    "* 세 수의 합이 양수인지 판별하기  \n",
    "주어진 세 개의 정수 a, b, c의 합이 양수인지 판별하세요."
   ]
  },
  {
   "cell_type": "code",
   "execution_count": null,
   "id": "100c7697",
   "metadata": {},
   "outputs": [],
   "source": [
    "a = -5\n",
    "b = 10\n",
    "c = 3"
   ]
  }
 ],
 "metadata": {
  "kernelspec": {
   "display_name": "Python 3 (ipykernel)",
   "language": "python",
   "name": "python3"
  },
  "language_info": {
   "codemirror_mode": {
    "name": "ipython",
    "version": 3
   },
   "file_extension": ".py",
   "mimetype": "text/x-python",
   "name": "python",
   "nbconvert_exporter": "python",
   "pygments_lexer": "ipython3",
   "version": "3.8.13"
  }
 },
 "nbformat": 4,
 "nbformat_minor": 5
}
