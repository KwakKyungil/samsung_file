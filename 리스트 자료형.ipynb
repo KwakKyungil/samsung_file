{
 "cells": [
  {
   "cell_type": "markdown",
   "id": "6c1eee58",
   "metadata": {},
   "source": [
    "# 파이썬 기초 프로그래밍 문법\n",
    "## 리스트 자료형\n",
    "* 리스트(list)는 파이썬에서 가장 널리 사용되는 자료형 중 하나입니다. \n",
    "* 리스트는 여러 개의 요소를 하나의 변수에 저장할 때 사용합니다. \n",
    "* 리스트는 대괄호([]) 안에 요소들을 쉼표(,)로 구분하여 표현합니다.\n",
    "\n",
    "### 리스트의 특징\n",
    "* 순서가 있는 자료형: 리스트의 각 요소는 인덱스를 통해 접근할 수 있습니다. 인덱스는 0부터 시작합니다.\n",
    "* 변경 가능한(mutable) 자료형: 리스트의 요소는 수정, 추가, 삭제가 가능합니다.\n",
    "* 다양한 데이터 타입을 함께 저장할 수 있습니다. 예를 들어, 숫자, 문자열, 리스트 등을 한 리스트에 저장할 수 있습니다.\n",
    "\n",
    "### 리스트 만들기"
   ]
  },
  {
   "cell_type": "code",
   "execution_count": 1,
   "id": "f30b480a",
   "metadata": {},
   "outputs": [
    {
     "name": "stdout",
     "output_type": "stream",
     "text": [
      "[1, 2, 3, 'apple', 5.5, [4, 5, 6]]\n"
     ]
    }
   ],
   "source": [
    "my_list = [1, 2, 3, \"apple\", 5.5, [4, 5, 6]]\n",
    "print(my_list)"
   ]
  },
  {
   "cell_type": "markdown",
   "id": "b07b86bd",
   "metadata": {},
   "source": [
    "### 중첩된 리스트\n",
    "* 리스트 내부에 다른 리스트를 요소로 포함할 수 있습니다. 이를 중첩된 리스트라고 합니다."
   ]
  },
  {
   "cell_type": "code",
   "execution_count": 12,
   "id": "94576bf0",
   "metadata": {},
   "outputs": [
    {
     "name": "stdout",
     "output_type": "stream",
     "text": [
      "6\n"
     ]
    }
   ],
   "source": [
    "nested_list = [[1, 2, 3], [4, 5, 6], [7, 8, 9]]\n",
    "print(nested_list[1][2])  # 결과: 6 (첫 번째 리스트의 두 번째 요소에 접근)"
   ]
  },
  {
   "cell_type": "markdown",
   "id": "65bd2d48",
   "metadata": {},
   "source": [
    "### 리스트 인덱싱\n",
    "* 리스트의 특정 요소에 접근합니다."
   ]
  },
  {
   "cell_type": "code",
   "execution_count": 2,
   "id": "7c3bb50a",
   "metadata": {},
   "outputs": [
    {
     "name": "stdout",
     "output_type": "stream",
     "text": [
      "1\n"
     ]
    }
   ],
   "source": [
    "my_list = [1, 2, 3, 4, 5]\n",
    "print(my_list[0])  # 결과: 1"
   ]
  },
  {
   "cell_type": "markdown",
   "id": "b22dcf24",
   "metadata": {},
   "source": [
    "### 리스트 슬라이싱\n",
    "* 리스트의 일부분을 추출합니다."
   ]
  },
  {
   "cell_type": "code",
   "execution_count": 5,
   "id": "5f4fee59",
   "metadata": {},
   "outputs": [
    {
     "name": "stdout",
     "output_type": "stream",
     "text": [
      "[2, 3, 4]\n"
     ]
    }
   ],
   "source": [
    "my_list = [1, 2, 3, 4, 5]\n",
    "print(my_list[1:4])  # 결과: [2, 3, 4]"
   ]
  },
  {
   "cell_type": "markdown",
   "id": "09866ff2",
   "metadata": {},
   "source": [
    "### 리스트 연산\n",
    "* 두 개의 리스트를 더하면 새로운 리스트가 생성되어 연결됩니다.\n",
    "* 리스트에 정수를 곱하면, 해당 리스트가 정수만큼 반복되어 새로운 리스트를 생성합니다."
   ]
  },
  {
   "cell_type": "code",
   "execution_count": 17,
   "id": "14601b13",
   "metadata": {},
   "outputs": [
    {
     "name": "stdout",
     "output_type": "stream",
     "text": [
      "[1, 2, 3, 4, 5, 6]\n",
      "[1, 2, 3, 1, 2, 3, 1, 2, 3]\n"
     ]
    }
   ],
   "source": [
    "list1 = [1, 2, 3]\n",
    "list2 = [4, 5, 6]\n",
    "list3 = list1 + list2\n",
    "print(list3)  # 결과: [1, 2, 3, 4, 5, 6]\n",
    "\n",
    "list4 = list1 * 3\n",
    "print(list4)  # 결과: [1, 2, 3, 1, 2, 3, 1, 2, 3]"
   ]
  },
  {
   "cell_type": "markdown",
   "id": "09f5b69c",
   "metadata": {},
   "source": [
    "### 리스트 값 수정\n",
    "* 리스트의 값을 수정하는 가장 기본적인 방법은 인덱싱, 슬라이싱을 사용하여 특정 인덱스의 값을 변경하는 것입니다."
   ]
  },
  {
   "cell_type": "code",
   "execution_count": 19,
   "id": "7e1453ec",
   "metadata": {},
   "outputs": [
    {
     "name": "stdout",
     "output_type": "stream",
     "text": [
      "[1, 2, 10, 4, 5]\n"
     ]
    }
   ],
   "source": [
    "my_list = [1, 2, 3, 4, 5]\n",
    "\n",
    "# 인덱스 2의 값을 10으로 변경합니다.\n",
    "my_list[2] = 10\n",
    "print(my_list)  # 결과: [1, 2, 10, 4, 5]"
   ]
  },
  {
   "cell_type": "code",
   "execution_count": 20,
   "id": "8708e8b5",
   "metadata": {},
   "outputs": [
    {
     "name": "stdout",
     "output_type": "stream",
     "text": [
      "[1, 20, 30, 40, 5]\n"
     ]
    }
   ],
   "source": [
    "my_list = [1, 2, 3, 4, 5]\n",
    "\n",
    "# 인덱스 1부터 3까지의 값을 변경합니다.\n",
    "my_list[1:4] = [20, 30, 40]\n",
    "print(my_list)  # 결과: [1, 20, 30, 40, 5]"
   ]
  },
  {
   "cell_type": "markdown",
   "id": "3daca0c7",
   "metadata": {},
   "source": [
    "### 딕셔너리 값 삭제\n",
    "* del 키워드를 사용하여 리스트의 값을 삭제할 수 있습니다."
   ]
  },
  {
   "cell_type": "code",
   "execution_count": 26,
   "id": "41c51a12",
   "metadata": {},
   "outputs": [
    {
     "name": "stdout",
     "output_type": "stream",
     "text": [
      "[1, 3, 4, 5]\n"
     ]
    }
   ],
   "source": [
    "my_list = [1, 2, 3, 4, 5]\n",
    "del my_list[1]\n",
    "print(my_list)"
   ]
  },
  {
   "cell_type": "markdown",
   "id": "438b8359",
   "metadata": {},
   "source": [
    "### 리스트 멤버십 테스트\n",
    "* in 및 not in 연산자를 사용하여 리스트에 특정 요소가 있는지 확인합니다."
   ]
  },
  {
   "cell_type": "code",
   "execution_count": 18,
   "id": "e3e2bbf4",
   "metadata": {},
   "outputs": [
    {
     "name": "stdout",
     "output_type": "stream",
     "text": [
      "True\n",
      "True\n"
     ]
    }
   ],
   "source": [
    "my_list = [1, 2, 3, 4, 5]\n",
    "print(3 in my_list)  # 결과: True\n",
    "print(6 not in my_list)  # 결과: True"
   ]
  },
  {
   "cell_type": "markdown",
   "id": "52090ed8",
   "metadata": {},
   "source": [
    "### 리스트 전용 함수"
   ]
  },
  {
   "cell_type": "code",
   "execution_count": 6,
   "id": "c4187505",
   "metadata": {},
   "outputs": [
    {
     "name": "stdout",
     "output_type": "stream",
     "text": [
      "[1, 2, 3, 4]\n"
     ]
    }
   ],
   "source": [
    "# 리스트의 끝에 요소를 추가합니다.\n",
    "my_list = [1, 2, 3]\n",
    "my_list.append(4)\n",
    "print(my_list)  # 결과: [1, 2, 3, 4]"
   ]
  },
  {
   "cell_type": "code",
   "execution_count": 7,
   "id": "d4ade344",
   "metadata": {},
   "outputs": [
    {
     "name": "stdout",
     "output_type": "stream",
     "text": [
      "[1, 2, 3, 4, 5]\n"
     ]
    }
   ],
   "source": [
    "# 리스트의 특정 위치에 요소를 삽입합니다.\n",
    "my_list = [1, 2, 4, 5]\n",
    "my_list.insert(2, 3)\n",
    "print(my_list)  # 결과: [1, 2, 3, 4, 5]"
   ]
  },
  {
   "cell_type": "code",
   "execution_count": 9,
   "id": "771dd64d",
   "metadata": {},
   "outputs": [
    {
     "name": "stdout",
     "output_type": "stream",
     "text": [
      "[1, 2, 4, 5, 3]\n"
     ]
    }
   ],
   "source": [
    "# 리스트에서 특정 요소를 제거합니다.\n",
    "my_list = [1, 2, 3, 4, 5, 3]\n",
    "my_list.remove(3)\n",
    "print(my_list)  # 결과: [1, 2, 4, 5, 3]"
   ]
  },
  {
   "cell_type": "code",
   "execution_count": 10,
   "id": "980e7441",
   "metadata": {},
   "outputs": [
    {
     "name": "stdout",
     "output_type": "stream",
     "text": [
      "5\n"
     ]
    }
   ],
   "source": [
    "# 리스트의 길이를 구합니다.\n",
    "my_list = [1, 2, 3, 4, 5]\n",
    "print(len(my_list))  # 결과: 5"
   ]
  },
  {
   "cell_type": "code",
   "execution_count": 11,
   "id": "7ca27a02",
   "metadata": {},
   "outputs": [
    {
     "name": "stdout",
     "output_type": "stream",
     "text": [
      "[1, 2, 3, 4, 5]\n",
      "[5, 4, 3, 2, 1]\n"
     ]
    }
   ],
   "source": [
    "# 리스트를 오름차순으로 정렬합니다. 내림차순으로 정렬하려면 reverse=True 인자를 전달하세요.\n",
    "my_list = [3, 1, 4, 2, 5]\n",
    "my_list.sort()\n",
    "print(my_list)  # 결과: [1, 2, 3, 4, 5]\n",
    "\n",
    "my_list.sort(reverse=True)\n",
    "print(my_list)  # 결과: [5, 4, 3, 2, 1]"
   ]
  },
  {
   "cell_type": "code",
   "execution_count": 14,
   "id": "c915a10a",
   "metadata": {},
   "outputs": [
    {
     "name": "stdout",
     "output_type": "stream",
     "text": [
      "[1, 2, 4, 5]\n",
      "3\n"
     ]
    }
   ],
   "source": [
    "# 리스트에서 특정 인덱스의 요소를 삭제하고 반환합니다. 인덱스를 지정하지 않으면 마지막 요소를 삭제하고 반환합니다.\n",
    "my_list = [1, 2, 3, 4, 5]\n",
    "popped_element = my_list.pop(2)\n",
    "print(my_list)  # 결과: [1, 2, 4, 5]\n",
    "print(popped_element)  # 결과: 3"
   ]
  },
  {
   "cell_type": "code",
   "execution_count": 15,
   "id": "664fe801",
   "metadata": {},
   "outputs": [
    {
     "name": "stdout",
     "output_type": "stream",
     "text": [
      "3\n"
     ]
    }
   ],
   "source": [
    "# 리스트에서 특정 요소의 개수를 셉니다.\n",
    "my_list = [1, 2, 3, 2, 4, 2, 5]\n",
    "count_of_two = my_list.count(2)\n",
    "print(count_of_two)  # 결과: 3"
   ]
  },
  {
   "cell_type": "code",
   "execution_count": 16,
   "id": "49a714d1",
   "metadata": {},
   "outputs": [
    {
     "name": "stdout",
     "output_type": "stream",
     "text": [
      "[5, 4, 3, 2, 1]\n"
     ]
    }
   ],
   "source": [
    "# 리스트의 요소들을 역순으로 뒤집습니다.\n",
    "my_list = [1, 2, 3, 4, 5]\n",
    "my_list.reverse()\n",
    "print(my_list)  # 결과: [5, 4, 3, 2, 1]"
   ]
  },
  {
   "cell_type": "markdown",
   "id": "57ed2ac2",
   "metadata": {},
   "source": [
    "### 리스트 자료형 실습문제\n",
    "* 리스트 길이 구하기  \n",
    "주어진 리스트의 길이를 출력하세요."
   ]
  },
  {
   "cell_type": "code",
   "execution_count": 21,
   "id": "6c1c943c",
   "metadata": {},
   "outputs": [],
   "source": [
    "my_list = [1, 2, 3, 4, 5]"
   ]
  },
  {
   "cell_type": "markdown",
   "id": "662ce3ba",
   "metadata": {},
   "source": [
    "* 리스트 값 접근하기  \n",
    "주어진 리스트의 첫 번째와 마지막 요소를 출력하세요."
   ]
  },
  {
   "cell_type": "code",
   "execution_count": 22,
   "id": "fcfbac3c",
   "metadata": {},
   "outputs": [],
   "source": [
    "my_list = [1, 2, 3, 4, 5]"
   ]
  },
  {
   "cell_type": "markdown",
   "id": "574d87e9",
   "metadata": {},
   "source": [
    "* 리스트 뒤집기  \n",
    "주어진 리스트의 요소들을 거꾸로 출력하세요."
   ]
  },
  {
   "cell_type": "code",
   "execution_count": 23,
   "id": "c6aaae40",
   "metadata": {},
   "outputs": [],
   "source": [
    "my_list = [1, 2, 3, 4, 5]"
   ]
  },
  {
   "cell_type": "markdown",
   "id": "6e695a15",
   "metadata": {},
   "source": [
    "* 리스트 홀수 인덱스에 접근하기  \n",
    "주어진 리스트의 홀수 번째 인덱스 값을 출력하세요."
   ]
  },
  {
   "cell_type": "code",
   "execution_count": 24,
   "id": "a9771b43",
   "metadata": {},
   "outputs": [],
   "source": [
    "my_list = [10, 20, 30, 40, 50, 60, 70, 80, 90]"
   ]
  },
  {
   "cell_type": "markdown",
   "id": "e7f3a936",
   "metadata": {},
   "source": [
    "* 리스트 정렬하기  \n",
    "주어진 리스트를 내림차순으로 정렬하여 출력하세요."
   ]
  },
  {
   "cell_type": "code",
   "execution_count": 25,
   "id": "5118bcaa",
   "metadata": {},
   "outputs": [],
   "source": [
    "my_list = [4, 2, 9, 1, 5, 8]"
   ]
  }
 ],
 "metadata": {
  "kernelspec": {
   "display_name": "Python 3 (ipykernel)",
   "language": "python",
   "name": "python3"
  },
  "language_info": {
   "codemirror_mode": {
    "name": "ipython",
    "version": 3
   },
   "file_extension": ".py",
   "mimetype": "text/x-python",
   "name": "python",
   "nbconvert_exporter": "python",
   "pygments_lexer": "ipython3",
   "version": "3.8.13"
  }
 },
 "nbformat": 4,
 "nbformat_minor": 5
}
