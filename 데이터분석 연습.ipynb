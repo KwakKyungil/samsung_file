{
 "cells": [
  {
   "cell_type": "markdown",
   "id": "99683f63",
   "metadata": {},
   "source": [
    "# 데이터 분석 연습\n",
    "## 행, 열 선택하기"
   ]
  },
  {
   "cell_type": "code",
   "execution_count": 5,
   "id": "6d1b5e71",
   "metadata": {},
   "outputs": [
    {
     "data": {
      "text/html": [
       "<div>\n",
       "<style scoped>\n",
       "    .dataframe tbody tr th:only-of-type {\n",
       "        vertical-align: middle;\n",
       "    }\n",
       "\n",
       "    .dataframe tbody tr th {\n",
       "        vertical-align: top;\n",
       "    }\n",
       "\n",
       "    .dataframe thead th {\n",
       "        text-align: right;\n",
       "    }\n",
       "</style>\n",
       "<table border=\"1\" class=\"dataframe\">\n",
       "  <thead>\n",
       "    <tr style=\"text-align: right;\">\n",
       "      <th></th>\n",
       "      <th>A</th>\n",
       "      <th>B</th>\n",
       "      <th>C</th>\n",
       "    </tr>\n",
       "  </thead>\n",
       "  <tbody>\n",
       "    <tr>\n",
       "      <th>0</th>\n",
       "      <td>1</td>\n",
       "      <td>4</td>\n",
       "      <td>7</td>\n",
       "    </tr>\n",
       "    <tr>\n",
       "      <th>1</th>\n",
       "      <td>2</td>\n",
       "      <td>5</td>\n",
       "      <td>8</td>\n",
       "    </tr>\n",
       "    <tr>\n",
       "      <th>2</th>\n",
       "      <td>3</td>\n",
       "      <td>6</td>\n",
       "      <td>9</td>\n",
       "    </tr>\n",
       "  </tbody>\n",
       "</table>\n",
       "</div>"
      ],
      "text/plain": [
       "   A  B  C\n",
       "0  1  4  7\n",
       "1  2  5  8\n",
       "2  3  6  9"
      ]
     },
     "execution_count": 5,
     "metadata": {},
     "output_type": "execute_result"
    }
   ],
   "source": [
    "import pandas as pd\n",
    "\n",
    "data = {'A': [1, 2, 3], 'B': [4, 5, 6], 'C': [7, 8, 9]}\n",
    "df = pd.DataFrame(data)\n",
    "df"
   ]
  },
  {
   "cell_type": "markdown",
   "id": "dc09fbf5",
   "metadata": {},
   "source": [
    "1. (초급) 'A' 열을 선택하십시오."
   ]
  },
  {
   "cell_type": "code",
   "execution_count": null,
   "id": "64a6fd8b",
   "metadata": {},
   "outputs": [],
   "source": []
  },
  {
   "cell_type": "markdown",
   "id": "9eb1093e",
   "metadata": {},
   "source": [
    "2.  (초급) 'A'와 'B' 열을 선택하십시오."
   ]
  },
  {
   "cell_type": "code",
   "execution_count": null,
   "id": "1be789aa",
   "metadata": {},
   "outputs": [],
   "source": []
  },
  {
   "cell_type": "markdown",
   "id": "4ae715c1",
   "metadata": {},
   "source": [
    "3. (중급) iloc을 사용하여 0번째 열을 선택하십시오."
   ]
  },
  {
   "cell_type": "code",
   "execution_count": null,
   "id": "225c69ac",
   "metadata": {},
   "outputs": [],
   "source": []
  },
  {
   "cell_type": "markdown",
   "id": "c2a837b2",
   "metadata": {},
   "source": [
    "4. (중급) loc을 사용하여 'A'와 'B' 열을 선택하십시오."
   ]
  },
  {
   "cell_type": "code",
   "execution_count": null,
   "id": "2cc6f31b",
   "metadata": {},
   "outputs": [],
   "source": []
  },
  {
   "cell_type": "markdown",
   "id": "4d753670",
   "metadata": {},
   "source": [
    "5. (중급) 'A' 열의 값이 2보다 큰 행만 선택하십시오."
   ]
  },
  {
   "cell_type": "code",
   "execution_count": null,
   "id": "702315f8",
   "metadata": {},
   "outputs": [],
   "source": []
  },
  {
   "cell_type": "markdown",
   "id": "53288a28",
   "metadata": {},
   "source": [
    "6. (중급) 'A' 열의 값이 2보다 큰 행 중에서 'B' 열만 선택하십시오."
   ]
  },
  {
   "cell_type": "code",
   "execution_count": null,
   "id": "31447844",
   "metadata": {},
   "outputs": [],
   "source": []
  },
  {
   "cell_type": "markdown",
   "id": "dcd6a593",
   "metadata": {},
   "source": [
    "7. (고급) 'A' 열의 값이 짝수인 행만 선택하십시오."
   ]
  },
  {
   "cell_type": "code",
   "execution_count": null,
   "id": "326ce219",
   "metadata": {},
   "outputs": [],
   "source": []
  },
  {
   "cell_type": "markdown",
   "id": "eedd7da2",
   "metadata": {},
   "source": [
    "8. (고급) 'A' 열의 값이 짝수인 행 중에서 'C' 열만 선택하십시오."
   ]
  },
  {
   "cell_type": "code",
   "execution_count": null,
   "id": "b9fccd0e",
   "metadata": {},
   "outputs": [],
   "source": []
  },
  {
   "cell_type": "markdown",
   "id": "1a1a3148",
   "metadata": {},
   "source": [
    "## 데이터 합치기"
   ]
  },
  {
   "cell_type": "code",
   "execution_count": 2,
   "id": "9dadf110",
   "metadata": {},
   "outputs": [],
   "source": [
    "df1 = pd.DataFrame({'A': [1, 2], 'B': [3, 4]})\n",
    "df2 = pd.DataFrame({'A': [5, 6], 'B': [7, 8]})"
   ]
  },
  {
   "cell_type": "code",
   "execution_count": 3,
   "id": "38b611ff",
   "metadata": {},
   "outputs": [
    {
     "data": {
      "text/html": [
       "<div>\n",
       "<style scoped>\n",
       "    .dataframe tbody tr th:only-of-type {\n",
       "        vertical-align: middle;\n",
       "    }\n",
       "\n",
       "    .dataframe tbody tr th {\n",
       "        vertical-align: top;\n",
       "    }\n",
       "\n",
       "    .dataframe thead th {\n",
       "        text-align: right;\n",
       "    }\n",
       "</style>\n",
       "<table border=\"1\" class=\"dataframe\">\n",
       "  <thead>\n",
       "    <tr style=\"text-align: right;\">\n",
       "      <th></th>\n",
       "      <th>A</th>\n",
       "      <th>B</th>\n",
       "    </tr>\n",
       "  </thead>\n",
       "  <tbody>\n",
       "    <tr>\n",
       "      <th>0</th>\n",
       "      <td>1</td>\n",
       "      <td>3</td>\n",
       "    </tr>\n",
       "    <tr>\n",
       "      <th>1</th>\n",
       "      <td>2</td>\n",
       "      <td>4</td>\n",
       "    </tr>\n",
       "  </tbody>\n",
       "</table>\n",
       "</div>"
      ],
      "text/plain": [
       "   A  B\n",
       "0  1  3\n",
       "1  2  4"
      ]
     },
     "execution_count": 3,
     "metadata": {},
     "output_type": "execute_result"
    }
   ],
   "source": [
    "df1"
   ]
  },
  {
   "cell_type": "code",
   "execution_count": 4,
   "id": "9b3ad4be",
   "metadata": {},
   "outputs": [
    {
     "data": {
      "text/html": [
       "<div>\n",
       "<style scoped>\n",
       "    .dataframe tbody tr th:only-of-type {\n",
       "        vertical-align: middle;\n",
       "    }\n",
       "\n",
       "    .dataframe tbody tr th {\n",
       "        vertical-align: top;\n",
       "    }\n",
       "\n",
       "    .dataframe thead th {\n",
       "        text-align: right;\n",
       "    }\n",
       "</style>\n",
       "<table border=\"1\" class=\"dataframe\">\n",
       "  <thead>\n",
       "    <tr style=\"text-align: right;\">\n",
       "      <th></th>\n",
       "      <th>A</th>\n",
       "      <th>B</th>\n",
       "    </tr>\n",
       "  </thead>\n",
       "  <tbody>\n",
       "    <tr>\n",
       "      <th>0</th>\n",
       "      <td>5</td>\n",
       "      <td>7</td>\n",
       "    </tr>\n",
       "    <tr>\n",
       "      <th>1</th>\n",
       "      <td>6</td>\n",
       "      <td>8</td>\n",
       "    </tr>\n",
       "  </tbody>\n",
       "</table>\n",
       "</div>"
      ],
      "text/plain": [
       "   A  B\n",
       "0  5  7\n",
       "1  6  8"
      ]
     },
     "execution_count": 4,
     "metadata": {},
     "output_type": "execute_result"
    }
   ],
   "source": [
    "df2"
   ]
  },
  {
   "cell_type": "markdown",
   "id": "0da1e77f",
   "metadata": {},
   "source": [
    "1. (초급) 두 개의 데이터프레임을 수직으로 합치기"
   ]
  },
  {
   "cell_type": "code",
   "execution_count": null,
   "id": "436541c4",
   "metadata": {},
   "outputs": [],
   "source": []
  },
  {
   "cell_type": "markdown",
   "id": "1ff194b5",
   "metadata": {},
   "source": [
    "2. (초급) 두 개의 데이터프레임을 수평으로 합치기"
   ]
  },
  {
   "cell_type": "code",
   "execution_count": null,
   "id": "4db71043",
   "metadata": {},
   "outputs": [],
   "source": []
  },
  {
   "cell_type": "markdown",
   "id": "cd3a8c25",
   "metadata": {},
   "source": [
    "3. (중급) 수직으로 합친 후 인덱스를 재설정하기"
   ]
  },
  {
   "cell_type": "code",
   "execution_count": null,
   "id": "ff61c09e",
   "metadata": {},
   "outputs": [],
   "source": []
  },
  {
   "cell_type": "markdown",
   "id": "567068fe",
   "metadata": {},
   "source": [
    "4. (중급) 수평으로 합친 후 열 이름을 ['A', 'B', 'C', 'D']로 변경하기"
   ]
  },
  {
   "cell_type": "code",
   "execution_count": null,
   "id": "d1ce05fe",
   "metadata": {},
   "outputs": [],
   "source": []
  },
  {
   "cell_type": "markdown",
   "id": "4e79360e",
   "metadata": {},
   "source": [
    "5. (중급) df3까지 포함한 3개의 데이터프레임을 한 번에 수직으로 합치기"
   ]
  },
  {
   "cell_type": "code",
   "execution_count": 6,
   "id": "2a31ac66",
   "metadata": {},
   "outputs": [
    {
     "data": {
      "text/html": [
       "<div>\n",
       "<style scoped>\n",
       "    .dataframe tbody tr th:only-of-type {\n",
       "        vertical-align: middle;\n",
       "    }\n",
       "\n",
       "    .dataframe tbody tr th {\n",
       "        vertical-align: top;\n",
       "    }\n",
       "\n",
       "    .dataframe thead th {\n",
       "        text-align: right;\n",
       "    }\n",
       "</style>\n",
       "<table border=\"1\" class=\"dataframe\">\n",
       "  <thead>\n",
       "    <tr style=\"text-align: right;\">\n",
       "      <th></th>\n",
       "      <th>A</th>\n",
       "      <th>B</th>\n",
       "    </tr>\n",
       "  </thead>\n",
       "  <tbody>\n",
       "    <tr>\n",
       "      <th>0</th>\n",
       "      <td>9</td>\n",
       "      <td>11</td>\n",
       "    </tr>\n",
       "    <tr>\n",
       "      <th>1</th>\n",
       "      <td>10</td>\n",
       "      <td>12</td>\n",
       "    </tr>\n",
       "  </tbody>\n",
       "</table>\n",
       "</div>"
      ],
      "text/plain": [
       "    A   B\n",
       "0   9  11\n",
       "1  10  12"
      ]
     },
     "execution_count": 6,
     "metadata": {},
     "output_type": "execute_result"
    }
   ],
   "source": [
    "df3 = pd.DataFrame({'A': [9, 10], 'B': [11, 12]})\n",
    "df3"
   ]
  },
  {
   "cell_type": "markdown",
   "id": "0902696d",
   "metadata": {},
   "source": [
    "6. (중급) 두 데이터프레임을 각각 key1, key2 기준으로 합치기"
   ]
  },
  {
   "cell_type": "code",
   "execution_count": 18,
   "id": "0c42a929",
   "metadata": {},
   "outputs": [
    {
     "data": {
      "text/html": [
       "<div>\n",
       "<style scoped>\n",
       "    .dataframe tbody tr th:only-of-type {\n",
       "        vertical-align: middle;\n",
       "    }\n",
       "\n",
       "    .dataframe tbody tr th {\n",
       "        vertical-align: top;\n",
       "    }\n",
       "\n",
       "    .dataframe thead th {\n",
       "        text-align: right;\n",
       "    }\n",
       "</style>\n",
       "<table border=\"1\" class=\"dataframe\">\n",
       "  <thead>\n",
       "    <tr style=\"text-align: right;\">\n",
       "      <th></th>\n",
       "      <th>key1</th>\n",
       "      <th>value</th>\n",
       "    </tr>\n",
       "  </thead>\n",
       "  <tbody>\n",
       "    <tr>\n",
       "      <th>0</th>\n",
       "      <td>A</td>\n",
       "      <td>1</td>\n",
       "    </tr>\n",
       "    <tr>\n",
       "      <th>1</th>\n",
       "      <td>B</td>\n",
       "      <td>2</td>\n",
       "    </tr>\n",
       "    <tr>\n",
       "      <th>2</th>\n",
       "      <td>C</td>\n",
       "      <td>3</td>\n",
       "    </tr>\n",
       "  </tbody>\n",
       "</table>\n",
       "</div>"
      ],
      "text/plain": [
       "  key1  value\n",
       "0    A      1\n",
       "1    B      2\n",
       "2    C      3"
      ]
     },
     "execution_count": 18,
     "metadata": {},
     "output_type": "execute_result"
    }
   ],
   "source": [
    "df1 = pd.DataFrame({'key1': ['A', 'B', 'C'], 'value': [1, 2, 3]})\n",
    "df2 = pd.DataFrame({'key2': ['B', 'D', 'C'], 'value': [4, 5, 6]})\n",
    "df1"
   ]
  },
  {
   "cell_type": "code",
   "execution_count": 19,
   "id": "e96d3678",
   "metadata": {},
   "outputs": [
    {
     "data": {
      "text/html": [
       "<div>\n",
       "<style scoped>\n",
       "    .dataframe tbody tr th:only-of-type {\n",
       "        vertical-align: middle;\n",
       "    }\n",
       "\n",
       "    .dataframe tbody tr th {\n",
       "        vertical-align: top;\n",
       "    }\n",
       "\n",
       "    .dataframe thead th {\n",
       "        text-align: right;\n",
       "    }\n",
       "</style>\n",
       "<table border=\"1\" class=\"dataframe\">\n",
       "  <thead>\n",
       "    <tr style=\"text-align: right;\">\n",
       "      <th></th>\n",
       "      <th>key2</th>\n",
       "      <th>value</th>\n",
       "    </tr>\n",
       "  </thead>\n",
       "  <tbody>\n",
       "    <tr>\n",
       "      <th>0</th>\n",
       "      <td>B</td>\n",
       "      <td>4</td>\n",
       "    </tr>\n",
       "    <tr>\n",
       "      <th>1</th>\n",
       "      <td>D</td>\n",
       "      <td>5</td>\n",
       "    </tr>\n",
       "    <tr>\n",
       "      <th>2</th>\n",
       "      <td>C</td>\n",
       "      <td>6</td>\n",
       "    </tr>\n",
       "  </tbody>\n",
       "</table>\n",
       "</div>"
      ],
      "text/plain": [
       "  key2  value\n",
       "0    B      4\n",
       "1    D      5\n",
       "2    C      6"
      ]
     },
     "execution_count": 19,
     "metadata": {},
     "output_type": "execute_result"
    }
   ],
   "source": [
    "df2"
   ]
  },
  {
   "cell_type": "markdown",
   "id": "f1ec5d6f",
   "metadata": {},
   "source": [
    "## 데이터 시각화하기"
   ]
  },
  {
   "cell_type": "markdown",
   "id": "8d4ba7bf",
   "metadata": {},
   "source": [
    "1. (초급) tips 데이터셋을 불러오기"
   ]
  },
  {
   "cell_type": "code",
   "execution_count": null,
   "id": "8958483d",
   "metadata": {},
   "outputs": [],
   "source": []
  },
  {
   "cell_type": "markdown",
   "id": "a26c0f17",
   "metadata": {},
   "source": [
    "2. (초급) 요일별 전체 팁의 분포를 표시하는 boxplot 그리기"
   ]
  },
  {
   "cell_type": "code",
   "execution_count": null,
   "id": "d233947c",
   "metadata": {},
   "outputs": [],
   "source": []
  },
  {
   "cell_type": "markdown",
   "id": "66b45173",
   "metadata": {},
   "source": [
    "3. (중급) 요일별 팁의 분포를 표시하되, 점심과 저녁을 구분하여 boxplot 그리기"
   ]
  },
  {
   "cell_type": "code",
   "execution_count": null,
   "id": "869b9df6",
   "metadata": {},
   "outputs": [],
   "source": []
  },
  {
   "cell_type": "markdown",
   "id": "a2d43265",
   "metadata": {},
   "source": [
    "4. (중급) 성별에 따른 팁의 분포를 표시하는 violinplot 그리기"
   ]
  },
  {
   "cell_type": "code",
   "execution_count": null,
   "id": "c79f4f25",
   "metadata": {},
   "outputs": [],
   "source": []
  },
  {
   "cell_type": "markdown",
   "id": "999e8995",
   "metadata": {},
   "source": [
    "5. (고급) 요일별 전체 금액 대비 팁의 비율을 표시하는 barplot 그리기"
   ]
  },
  {
   "cell_type": "code",
   "execution_count": null,
   "id": "28bc19fd",
   "metadata": {},
   "outputs": [],
   "source": []
  },
  {
   "cell_type": "markdown",
   "id": "b47263b4",
   "metadata": {},
   "source": [
    "6. (고급) 요일별 전체 금액 대비 팁의 비율을 표시하되, 흡연 여부에 따라 색상을 구분하여 barplot 그리기"
   ]
  },
  {
   "cell_type": "code",
   "execution_count": null,
   "id": "c3369396",
   "metadata": {},
   "outputs": [],
   "source": []
  },
  {
   "cell_type": "markdown",
   "id": "35a586f4",
   "metadata": {},
   "source": [
    "7. (고급) 전체 금액 대비 팁의 비율과 테이블 인원수 사이의 관계를 회귀선과 함께 scatterplot으로 그리기"
   ]
  },
  {
   "cell_type": "code",
   "execution_count": null,
   "id": "9a22e4b9",
   "metadata": {},
   "outputs": [],
   "source": []
  },
  {
   "cell_type": "markdown",
   "id": "c0c05ad8",
   "metadata": {},
   "source": [
    "## 데이터 정렬하기"
   ]
  },
  {
   "cell_type": "code",
   "execution_count": 23,
   "id": "be32a739",
   "metadata": {},
   "outputs": [
    {
     "data": {
      "text/html": [
       "<div>\n",
       "<style scoped>\n",
       "    .dataframe tbody tr th:only-of-type {\n",
       "        vertical-align: middle;\n",
       "    }\n",
       "\n",
       "    .dataframe tbody tr th {\n",
       "        vertical-align: top;\n",
       "    }\n",
       "\n",
       "    .dataframe thead th {\n",
       "        text-align: right;\n",
       "    }\n",
       "</style>\n",
       "<table border=\"1\" class=\"dataframe\">\n",
       "  <thead>\n",
       "    <tr style=\"text-align: right;\">\n",
       "      <th></th>\n",
       "      <th>A</th>\n",
       "      <th>B</th>\n",
       "      <th>C</th>\n",
       "    </tr>\n",
       "  </thead>\n",
       "  <tbody>\n",
       "    <tr>\n",
       "      <th>0</th>\n",
       "      <td>3</td>\n",
       "      <td>6</td>\n",
       "      <td>9</td>\n",
       "    </tr>\n",
       "    <tr>\n",
       "      <th>1</th>\n",
       "      <td>1</td>\n",
       "      <td>4</td>\n",
       "      <td>7</td>\n",
       "    </tr>\n",
       "    <tr>\n",
       "      <th>2</th>\n",
       "      <td>2</td>\n",
       "      <td>5</td>\n",
       "      <td>8</td>\n",
       "    </tr>\n",
       "  </tbody>\n",
       "</table>\n",
       "</div>"
      ],
      "text/plain": [
       "   A  B  C\n",
       "0  3  6  9\n",
       "1  1  4  7\n",
       "2  2  5  8"
      ]
     },
     "execution_count": 23,
     "metadata": {},
     "output_type": "execute_result"
    }
   ],
   "source": [
    "data = {'A': [3, 1, 2], 'B': [6, 4, 5], 'C': [9, 7, 8]}\n",
    "df = pd.DataFrame(data)\n",
    "df"
   ]
  },
  {
   "cell_type": "markdown",
   "id": "669e08e7",
   "metadata": {},
   "source": [
    "1. (초급) 'A' 열을 기준으로 오름차순 정렬하기"
   ]
  },
  {
   "cell_type": "code",
   "execution_count": null,
   "id": "d736009c",
   "metadata": {},
   "outputs": [],
   "source": []
  },
  {
   "cell_type": "markdown",
   "id": "77535d30",
   "metadata": {},
   "source": [
    "2. (초급) 'A' 열을 기준으로 내림차순 정렬하기"
   ]
  },
  {
   "cell_type": "code",
   "execution_count": null,
   "id": "abe698d1",
   "metadata": {},
   "outputs": [],
   "source": []
  },
  {
   "cell_type": "markdown",
   "id": "03a0ceab",
   "metadata": {},
   "source": [
    "3. (중급) 'A' 열을 기준으로 오름차순 정렬한 후, 'B' 열을 기준으로 내림차순 정렬하기"
   ]
  },
  {
   "cell_type": "code",
   "execution_count": null,
   "id": "b84e6a3b",
   "metadata": {},
   "outputs": [],
   "source": []
  },
  {
   "cell_type": "markdown",
   "id": "d511857b",
   "metadata": {},
   "source": [
    "4. (중급) 인덱스를 기준으로 오름차순 정렬하기"
   ]
  },
  {
   "cell_type": "code",
   "execution_count": null,
   "id": "3292696a",
   "metadata": {},
   "outputs": [],
   "source": []
  },
  {
   "cell_type": "markdown",
   "id": "f7fbdb14",
   "metadata": {},
   "source": [
    "5. (중급) 인덱스를 기준으로 내림차순 정렬하기"
   ]
  },
  {
   "cell_type": "code",
   "execution_count": null,
   "id": "7c3af49e",
   "metadata": {},
   "outputs": [],
   "source": []
  },
  {
   "cell_type": "markdown",
   "id": "20de9dc3",
   "metadata": {},
   "source": [
    "6. (중급) 'A' 열을 기준으로 오름차순 정렬한 후, 정렬 결과를 원래 데이터프레임에 저장하기"
   ]
  },
  {
   "cell_type": "code",
   "execution_count": null,
   "id": "28fdd6b6",
   "metadata": {},
   "outputs": [],
   "source": []
  },
  {
   "cell_type": "markdown",
   "id": "fcb1a552",
   "metadata": {},
   "source": [
    "7. (고급) 'A' 열의 값이 짝수인 행만 선택한 후, 'B' 열을 기준으로 오름차순 정렬하기"
   ]
  },
  {
   "cell_type": "code",
   "execution_count": null,
   "id": "94594516",
   "metadata": {},
   "outputs": [],
   "source": []
  },
  {
   "cell_type": "markdown",
   "id": "5e11b42a",
   "metadata": {},
   "source": [
    "8. (고급) 'A' 열의 값이 홀수인 행만 선택한 후, 인덱스를 기준으로 내림차순 정렬하기"
   ]
  },
  {
   "cell_type": "code",
   "execution_count": null,
   "id": "b53b3428",
   "metadata": {},
   "outputs": [],
   "source": []
  },
  {
   "cell_type": "markdown",
   "id": "3d157078",
   "metadata": {},
   "source": [
    "## CrossTab과 Pivot_Table"
   ]
  },
  {
   "cell_type": "markdown",
   "id": "c9d3ebed",
   "metadata": {},
   "source": [
    "1. (초급) 두 개의 범주형 열을 사용하여 crosstab 생성하기"
   ]
  },
  {
   "cell_type": "code",
   "execution_count": 40,
   "id": "79c207e3",
   "metadata": {},
   "outputs": [
    {
     "data": {
      "text/html": [
       "<div>\n",
       "<style scoped>\n",
       "    .dataframe tbody tr th:only-of-type {\n",
       "        vertical-align: middle;\n",
       "    }\n",
       "\n",
       "    .dataframe tbody tr th {\n",
       "        vertical-align: top;\n",
       "    }\n",
       "\n",
       "    .dataframe thead th {\n",
       "        text-align: right;\n",
       "    }\n",
       "</style>\n",
       "<table border=\"1\" class=\"dataframe\">\n",
       "  <thead>\n",
       "    <tr style=\"text-align: right;\">\n",
       "      <th></th>\n",
       "      <th>A</th>\n",
       "      <th>B</th>\n",
       "      <th>C</th>\n",
       "      <th>D</th>\n",
       "    </tr>\n",
       "  </thead>\n",
       "  <tbody>\n",
       "    <tr>\n",
       "      <th>0</th>\n",
       "      <td>X</td>\n",
       "      <td>M</td>\n",
       "      <td>1</td>\n",
       "      <td>5</td>\n",
       "    </tr>\n",
       "    <tr>\n",
       "      <th>1</th>\n",
       "      <td>Y</td>\n",
       "      <td>N</td>\n",
       "      <td>2</td>\n",
       "      <td>6</td>\n",
       "    </tr>\n",
       "    <tr>\n",
       "      <th>2</th>\n",
       "      <td>X</td>\n",
       "      <td>M</td>\n",
       "      <td>3</td>\n",
       "      <td>7</td>\n",
       "    </tr>\n",
       "    <tr>\n",
       "      <th>3</th>\n",
       "      <td>Y</td>\n",
       "      <td>N</td>\n",
       "      <td>4</td>\n",
       "      <td>8</td>\n",
       "    </tr>\n",
       "  </tbody>\n",
       "</table>\n",
       "</div>"
      ],
      "text/plain": [
       "   A  B  C  D\n",
       "0  X  M  1  5\n",
       "1  Y  N  2  6\n",
       "2  X  M  3  7\n",
       "3  Y  N  4  8"
      ]
     },
     "execution_count": 40,
     "metadata": {},
     "output_type": "execute_result"
    }
   ],
   "source": [
    "data = {'A': ['X', 'Y', 'X', 'Y'], 'B': ['M', 'N', 'M', 'N'], 'C': [1, 2, 3, 4], 'D': [5, 6, 7, 8]}\n",
    "df = pd.DataFrame(data)\n",
    "df"
   ]
  },
  {
   "cell_type": "markdown",
   "id": "7135f2f2",
   "metadata": {},
   "source": [
    "2. (초급) 두 개의 범주형 열을 사용하여 C 값의 총합 구하기"
   ]
  },
  {
   "cell_type": "code",
   "execution_count": 41,
   "id": "77f83188",
   "metadata": {},
   "outputs": [
    {
     "data": {
      "text/html": [
       "<div>\n",
       "<style scoped>\n",
       "    .dataframe tbody tr th:only-of-type {\n",
       "        vertical-align: middle;\n",
       "    }\n",
       "\n",
       "    .dataframe tbody tr th {\n",
       "        vertical-align: top;\n",
       "    }\n",
       "\n",
       "    .dataframe thead th {\n",
       "        text-align: right;\n",
       "    }\n",
       "</style>\n",
       "<table border=\"1\" class=\"dataframe\">\n",
       "  <thead>\n",
       "    <tr style=\"text-align: right;\">\n",
       "      <th></th>\n",
       "      <th>A</th>\n",
       "      <th>B</th>\n",
       "      <th>C</th>\n",
       "      <th>D</th>\n",
       "    </tr>\n",
       "  </thead>\n",
       "  <tbody>\n",
       "    <tr>\n",
       "      <th>0</th>\n",
       "      <td>X</td>\n",
       "      <td>M</td>\n",
       "      <td>1</td>\n",
       "      <td>5</td>\n",
       "    </tr>\n",
       "    <tr>\n",
       "      <th>1</th>\n",
       "      <td>Y</td>\n",
       "      <td>N</td>\n",
       "      <td>2</td>\n",
       "      <td>6</td>\n",
       "    </tr>\n",
       "    <tr>\n",
       "      <th>2</th>\n",
       "      <td>X</td>\n",
       "      <td>M</td>\n",
       "      <td>3</td>\n",
       "      <td>7</td>\n",
       "    </tr>\n",
       "    <tr>\n",
       "      <th>3</th>\n",
       "      <td>Y</td>\n",
       "      <td>N</td>\n",
       "      <td>4</td>\n",
       "      <td>8</td>\n",
       "    </tr>\n",
       "  </tbody>\n",
       "</table>\n",
       "</div>"
      ],
      "text/plain": [
       "   A  B  C  D\n",
       "0  X  M  1  5\n",
       "1  Y  N  2  6\n",
       "2  X  M  3  7\n",
       "3  Y  N  4  8"
      ]
     },
     "execution_count": 41,
     "metadata": {},
     "output_type": "execute_result"
    }
   ],
   "source": [
    "data = {'A': ['X', 'Y', 'X', 'Y'], 'B': ['M', 'N', 'M', 'N'], 'C': [1, 2, 3, 4], 'D': [5, 6, 7, 8]}\n",
    "df = pd.DataFrame(data)\n",
    "df"
   ]
  },
  {
   "cell_type": "markdown",
   "id": "672d0b3d",
   "metadata": {},
   "source": [
    "3. (중급) crosstab에서 행 및 열의 합계를 포함하기"
   ]
  },
  {
   "cell_type": "code",
   "execution_count": null,
   "id": "103e2767",
   "metadata": {},
   "outputs": [],
   "source": []
  },
  {
   "cell_type": "markdown",
   "id": "8ed3d20a",
   "metadata": {},
   "source": [
    "4. (중급) pivot_table에서 두 개의 값 열에 대한 평균 계산하기"
   ]
  },
  {
   "cell_type": "code",
   "execution_count": null,
   "id": "dcb06acc",
   "metadata": {},
   "outputs": [],
   "source": []
  },
  {
   "cell_type": "markdown",
   "id": "3a619725",
   "metadata": {},
   "source": [
    "## 결측치 처리하기"
   ]
  },
  {
   "cell_type": "code",
   "execution_count": 43,
   "id": "7df0adee",
   "metadata": {},
   "outputs": [
    {
     "data": {
      "text/html": [
       "<div>\n",
       "<style scoped>\n",
       "    .dataframe tbody tr th:only-of-type {\n",
       "        vertical-align: middle;\n",
       "    }\n",
       "\n",
       "    .dataframe tbody tr th {\n",
       "        vertical-align: top;\n",
       "    }\n",
       "\n",
       "    .dataframe thead th {\n",
       "        text-align: right;\n",
       "    }\n",
       "</style>\n",
       "<table border=\"1\" class=\"dataframe\">\n",
       "  <thead>\n",
       "    <tr style=\"text-align: right;\">\n",
       "      <th></th>\n",
       "      <th>A</th>\n",
       "      <th>B</th>\n",
       "      <th>C</th>\n",
       "    </tr>\n",
       "  </thead>\n",
       "  <tbody>\n",
       "    <tr>\n",
       "      <th>0</th>\n",
       "      <td>1.0</td>\n",
       "      <td>4.0</td>\n",
       "      <td>7</td>\n",
       "    </tr>\n",
       "    <tr>\n",
       "      <th>1</th>\n",
       "      <td>NaN</td>\n",
       "      <td>NaN</td>\n",
       "      <td>8</td>\n",
       "    </tr>\n",
       "    <tr>\n",
       "      <th>2</th>\n",
       "      <td>3.0</td>\n",
       "      <td>NaN</td>\n",
       "      <td>9</td>\n",
       "    </tr>\n",
       "  </tbody>\n",
       "</table>\n",
       "</div>"
      ],
      "text/plain": [
       "     A    B  C\n",
       "0  1.0  4.0  7\n",
       "1  NaN  NaN  8\n",
       "2  3.0  NaN  9"
      ]
     },
     "execution_count": 43,
     "metadata": {},
     "output_type": "execute_result"
    }
   ],
   "source": [
    "import numpy as np\n",
    "\n",
    "data = {'A': [1, np.nan, 3], 'B': [4, np.nan, np.nan], 'C': [7, 8, 9]}\n",
    "df = pd.DataFrame(data)\n",
    "df"
   ]
  },
  {
   "cell_type": "markdown",
   "id": "ce9ad51f",
   "metadata": {},
   "source": [
    "1. (초급) 데이터프레임에서 결측치 확인하기"
   ]
  },
  {
   "cell_type": "code",
   "execution_count": null,
   "id": "40b5e527",
   "metadata": {},
   "outputs": [],
   "source": []
  },
  {
   "cell_type": "markdown",
   "id": "dfd73b30",
   "metadata": {},
   "source": [
    "2. (초급) 데이터프레임에서 결측치가 있는 행 삭제하기"
   ]
  },
  {
   "cell_type": "code",
   "execution_count": null,
   "id": "f7a488e5",
   "metadata": {},
   "outputs": [],
   "source": []
  },
  {
   "cell_type": "markdown",
   "id": "8714a556",
   "metadata": {},
   "source": [
    "3. (초급) 데이터프레임에서 결측치가 있는 열 삭제하기"
   ]
  },
  {
   "cell_type": "code",
   "execution_count": null,
   "id": "45121c94",
   "metadata": {},
   "outputs": [],
   "source": []
  },
  {
   "cell_type": "markdown",
   "id": "217636d1",
   "metadata": {},
   "source": [
    "4. (중급) 데이터프레임에서 결측치를 0으로 채우기"
   ]
  },
  {
   "cell_type": "code",
   "execution_count": null,
   "id": "81bfb917",
   "metadata": {},
   "outputs": [],
   "source": []
  },
  {
   "cell_type": "markdown",
   "id": "fc098eba",
   "metadata": {},
   "source": [
    "5. (중급) 데이터프레임에서 결측치를 이전 값으로 채우기"
   ]
  },
  {
   "cell_type": "code",
   "execution_count": null,
   "id": "22db3b6b",
   "metadata": {},
   "outputs": [],
   "source": []
  },
  {
   "cell_type": "markdown",
   "id": "03a726be",
   "metadata": {},
   "source": [
    "6. (중급) 데이터프레임에서 결측치를 다음 값으로 채우기"
   ]
  },
  {
   "cell_type": "code",
   "execution_count": null,
   "id": "8d5c6210",
   "metadata": {},
   "outputs": [],
   "source": []
  },
  {
   "cell_type": "markdown",
   "id": "d24be42a",
   "metadata": {},
   "source": [
    "7. (중급) 데이터프레임에서 결측치를 각 열의 평균값으로 채우기"
   ]
  },
  {
   "cell_type": "code",
   "execution_count": null,
   "id": "2e63e661",
   "metadata": {},
   "outputs": [],
   "source": []
  },
  {
   "cell_type": "markdown",
   "id": "d3a6be15",
   "metadata": {},
   "source": [
    "8. (고급) 데이터프레임에서 결측치를 각 열의 중앙값으로 채우기"
   ]
  },
  {
   "cell_type": "code",
   "execution_count": null,
   "id": "d4e63608",
   "metadata": {},
   "outputs": [],
   "source": []
  },
  {
   "cell_type": "markdown",
   "id": "c22097da",
   "metadata": {},
   "source": [
    "9. (고급) 데이터프레임에서 'A' 열의 결측치를 'A' 열의 평균값으로, 'B' 열의 결측치를 'B' 열의 중앙값으로 채우기"
   ]
  },
  {
   "cell_type": "code",
   "execution_count": null,
   "id": "413579bc",
   "metadata": {},
   "outputs": [],
   "source": []
  },
  {
   "cell_type": "markdown",
   "id": "d66d40ca",
   "metadata": {},
   "source": [
    "## 데이터 그룹화하기"
   ]
  },
  {
   "cell_type": "code",
   "execution_count": 47,
   "id": "f1bb4d39",
   "metadata": {},
   "outputs": [
    {
     "data": {
      "text/html": [
       "<div>\n",
       "<style scoped>\n",
       "    .dataframe tbody tr th:only-of-type {\n",
       "        vertical-align: middle;\n",
       "    }\n",
       "\n",
       "    .dataframe tbody tr th {\n",
       "        vertical-align: top;\n",
       "    }\n",
       "\n",
       "    .dataframe thead th {\n",
       "        text-align: right;\n",
       "    }\n",
       "</style>\n",
       "<table border=\"1\" class=\"dataframe\">\n",
       "  <thead>\n",
       "    <tr style=\"text-align: right;\">\n",
       "      <th></th>\n",
       "      <th>A</th>\n",
       "      <th>B</th>\n",
       "      <th>C</th>\n",
       "    </tr>\n",
       "  </thead>\n",
       "  <tbody>\n",
       "    <tr>\n",
       "      <th>0</th>\n",
       "      <td>X</td>\n",
       "      <td>1</td>\n",
       "      <td>M</td>\n",
       "    </tr>\n",
       "    <tr>\n",
       "      <th>1</th>\n",
       "      <td>Y</td>\n",
       "      <td>2</td>\n",
       "      <td>M</td>\n",
       "    </tr>\n",
       "    <tr>\n",
       "      <th>2</th>\n",
       "      <td>X</td>\n",
       "      <td>3</td>\n",
       "      <td>N</td>\n",
       "    </tr>\n",
       "    <tr>\n",
       "      <th>3</th>\n",
       "      <td>Y</td>\n",
       "      <td>4</td>\n",
       "      <td>N</td>\n",
       "    </tr>\n",
       "  </tbody>\n",
       "</table>\n",
       "</div>"
      ],
      "text/plain": [
       "   A  B  C\n",
       "0  X  1  M\n",
       "1  Y  2  M\n",
       "2  X  3  N\n",
       "3  Y  4  N"
      ]
     },
     "execution_count": 47,
     "metadata": {},
     "output_type": "execute_result"
    }
   ],
   "source": [
    "data = {'A': ['X', 'Y', 'X', 'Y'], 'B': [1, 2, 3, 4], 'C': ['M', 'M', 'N', 'N']}\n",
    "df = pd.DataFrame(data)\n",
    "df"
   ]
  },
  {
   "cell_type": "markdown",
   "id": "04cb0b4e",
   "metadata": {},
   "source": [
    "1. (초급) 'A' 열을 기준으로 그룹화하고, 각 그룹의 'B' 열의 합계 구하기"
   ]
  },
  {
   "cell_type": "code",
   "execution_count": null,
   "id": "5c2c4d96",
   "metadata": {},
   "outputs": [],
   "source": []
  },
  {
   "cell_type": "markdown",
   "id": "42b55ffe",
   "metadata": {},
   "source": [
    "2. (초급) 'A' 열을 기준으로 그룹화하고, 각 그룹의 평균 구하기"
   ]
  },
  {
   "cell_type": "code",
   "execution_count": null,
   "id": "96d073bc",
   "metadata": {},
   "outputs": [],
   "source": []
  },
  {
   "cell_type": "markdown",
   "id": "070992d2",
   "metadata": {},
   "source": [
    "3. (중급) 'A'와 'C' 열을 기준으로 그룹화하고, 각 그룹의 'B' 열의 최대값 구하기"
   ]
  },
  {
   "cell_type": "code",
   "execution_count": null,
   "id": "07bfc4ab",
   "metadata": {},
   "outputs": [],
   "source": []
  },
  {
   "cell_type": "markdown",
   "id": "e0d34a5a",
   "metadata": {},
   "source": [
    "4. (중급) 'A' 열을 기준으로 그룹화하고, 각 그룹의 'B' 열의 중앙값 구하기"
   ]
  },
  {
   "cell_type": "code",
   "execution_count": null,
   "id": "6946c6af",
   "metadata": {},
   "outputs": [],
   "source": []
  },
  {
   "cell_type": "markdown",
   "id": "99a0de39",
   "metadata": {},
   "source": [
    "5. (중급) 'A' 열을 기준으로 그룹화하고, 각 그룹의 행 개수 구하기"
   ]
  },
  {
   "cell_type": "code",
   "execution_count": null,
   "id": "46833999",
   "metadata": {},
   "outputs": [],
   "source": []
  },
  {
   "cell_type": "markdown",
   "id": "ede1b612",
   "metadata": {},
   "source": [
    "6. (고급) 'A' 열을 기준으로 그룹화하고, 각 그룹의 'B' 열 값의 표준편차 구하기"
   ]
  },
  {
   "cell_type": "code",
   "execution_count": null,
   "id": "8bce7dfb",
   "metadata": {},
   "outputs": [],
   "source": []
  },
  {
   "cell_type": "markdown",
   "id": "e5289a7b",
   "metadata": {},
   "source": [
    "7. (고급) 'A' 열을 기준으로 그룹화하고, 각 그룹의 'B' 열 값의 최소값과 최대값 구하기"
   ]
  },
  {
   "cell_type": "code",
   "execution_count": null,
   "id": "f89db06c",
   "metadata": {},
   "outputs": [],
   "source": []
  },
  {
   "cell_type": "markdown",
   "id": "244274d7",
   "metadata": {},
   "source": [
    "8. (고급) 'A' 열을 기준으로 그룹화하고, 각 그룹의 'B' 열 값의 합계, 평균, 표준편차 구하기"
   ]
  },
  {
   "cell_type": "code",
   "execution_count": null,
   "id": "fc34d3a7",
   "metadata": {},
   "outputs": [],
   "source": []
  }
 ],
 "metadata": {
  "kernelspec": {
   "display_name": "Python 3 (ipykernel)",
   "language": "python",
   "name": "python3"
  },
  "language_info": {
   "codemirror_mode": {
    "name": "ipython",
    "version": 3
   },
   "file_extension": ".py",
   "mimetype": "text/x-python",
   "name": "python",
   "nbconvert_exporter": "python",
   "pygments_lexer": "ipython3",
   "version": "3.8.13"
  }
 },
 "nbformat": 4,
 "nbformat_minor": 5
}
